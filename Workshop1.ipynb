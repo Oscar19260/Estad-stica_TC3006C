{
 "cells": [
  {
   "cell_type": "markdown",
   "id": "8bb042d7",
   "metadata": {},
   "source": [
    "# __Workshop 1, Advanced AI - Statistics Module__"
   ]
  },
  {
   "cell_type": "markdown",
   "id": "2d0c7ed1",
   "metadata": {},
   "source": [
    "## __CHALLENGE: Data management and Descriptive Statistics__"
   ]
  },
  {
   "cell_type": "markdown",
   "id": "67e8aa57",
   "metadata": {},
   "source": [
    "### __Data collection and visualization__"
   ]
  },
  {
   "cell_type": "markdown",
   "id": "70c50d36",
   "metadata": {},
   "source": [
    "Import the following Python libraries:"
   ]
  },
  {
   "cell_type": "code",
   "execution_count": 2,
   "id": "fc2835a8",
   "metadata": {},
   "outputs": [],
   "source": [
    "import numpy as np\n",
    "import pandas as pd\n",
    "import pandas_datareader as pdr"
   ]
  },
  {
   "cell_type": "markdown",
   "id": "f0bfb23f",
   "metadata": {},
   "source": [
    "You might have to install the pandas_datareader first. The pandas_datareader library has functions to download online data from Yahoo Finance where you can find financial real historical data for stocks, ETFs, cryptocurrencies, etc from most of the financial markets around the world.\n",
    "\n",
    "Download daily prices for Bitcoin from 2017:"
   ]
  },
  {
   "cell_type": "code",
   "execution_count": 3,
   "id": "97621a93",
   "metadata": {},
   "outputs": [],
   "source": [
    "BTC = pdr.get_data_yahoo('BTC-USD',\n",
    "start=\"01/01/2017\", interval=\"d\")"
   ]
  },
  {
   "cell_type": "markdown",
   "id": "4b9bf94c",
   "metadata": {},
   "source": [
    "Show the content of the data:"
   ]
  },
  {
   "cell_type": "code",
   "execution_count": 4,
   "id": "c46ee2f1",
   "metadata": {},
   "outputs": [
    {
     "data": {
      "text/html": [
       "<div>\n",
       "<style scoped>\n",
       "    .dataframe tbody tr th:only-of-type {\n",
       "        vertical-align: middle;\n",
       "    }\n",
       "\n",
       "    .dataframe tbody tr th {\n",
       "        vertical-align: top;\n",
       "    }\n",
       "\n",
       "    .dataframe thead th {\n",
       "        text-align: right;\n",
       "    }\n",
       "</style>\n",
       "<table border=\"1\" class=\"dataframe\">\n",
       "  <thead>\n",
       "    <tr style=\"text-align: right;\">\n",
       "      <th></th>\n",
       "      <th>High</th>\n",
       "      <th>Low</th>\n",
       "      <th>Open</th>\n",
       "      <th>Close</th>\n",
       "      <th>Volume</th>\n",
       "      <th>Adj Close</th>\n",
       "    </tr>\n",
       "    <tr>\n",
       "      <th>Date</th>\n",
       "      <th></th>\n",
       "      <th></th>\n",
       "      <th></th>\n",
       "      <th></th>\n",
       "      <th></th>\n",
       "      <th></th>\n",
       "    </tr>\n",
       "  </thead>\n",
       "  <tbody>\n",
       "    <tr>\n",
       "      <th>2017-01-01</th>\n",
       "      <td>1003.080017</td>\n",
       "      <td>958.698975</td>\n",
       "      <td>963.658020</td>\n",
       "      <td>998.325012</td>\n",
       "      <td>147775008</td>\n",
       "      <td>998.325012</td>\n",
       "    </tr>\n",
       "    <tr>\n",
       "      <th>2017-01-02</th>\n",
       "      <td>1031.390015</td>\n",
       "      <td>996.702026</td>\n",
       "      <td>998.617004</td>\n",
       "      <td>1021.750000</td>\n",
       "      <td>222184992</td>\n",
       "      <td>1021.750000</td>\n",
       "    </tr>\n",
       "    <tr>\n",
       "      <th>2017-01-03</th>\n",
       "      <td>1044.079956</td>\n",
       "      <td>1021.599976</td>\n",
       "      <td>1021.599976</td>\n",
       "      <td>1043.839966</td>\n",
       "      <td>185168000</td>\n",
       "      <td>1043.839966</td>\n",
       "    </tr>\n",
       "    <tr>\n",
       "      <th>2017-01-04</th>\n",
       "      <td>1159.420044</td>\n",
       "      <td>1044.400024</td>\n",
       "      <td>1044.400024</td>\n",
       "      <td>1154.729980</td>\n",
       "      <td>344945984</td>\n",
       "      <td>1154.729980</td>\n",
       "    </tr>\n",
       "    <tr>\n",
       "      <th>2017-01-05</th>\n",
       "      <td>1191.099976</td>\n",
       "      <td>910.416992</td>\n",
       "      <td>1156.729980</td>\n",
       "      <td>1013.380005</td>\n",
       "      <td>510199008</td>\n",
       "      <td>1013.380005</td>\n",
       "    </tr>\n",
       "    <tr>\n",
       "      <th>...</th>\n",
       "      <td>...</td>\n",
       "      <td>...</td>\n",
       "      <td>...</td>\n",
       "      <td>...</td>\n",
       "      <td>...</td>\n",
       "      <td>...</td>\n",
       "    </tr>\n",
       "    <tr>\n",
       "      <th>2022-08-08</th>\n",
       "      <td>24203.689453</td>\n",
       "      <td>23176.546875</td>\n",
       "      <td>23179.527344</td>\n",
       "      <td>23809.486328</td>\n",
       "      <td>28575544847</td>\n",
       "      <td>23809.486328</td>\n",
       "    </tr>\n",
       "    <tr>\n",
       "      <th>2022-08-09</th>\n",
       "      <td>23898.615234</td>\n",
       "      <td>22982.000000</td>\n",
       "      <td>23811.484375</td>\n",
       "      <td>23164.318359</td>\n",
       "      <td>23555719219</td>\n",
       "      <td>23164.318359</td>\n",
       "    </tr>\n",
       "    <tr>\n",
       "      <th>2022-08-10</th>\n",
       "      <td>24127.414062</td>\n",
       "      <td>22771.519531</td>\n",
       "      <td>23162.898438</td>\n",
       "      <td>23947.642578</td>\n",
       "      <td>32837431722</td>\n",
       "      <td>23947.642578</td>\n",
       "    </tr>\n",
       "    <tr>\n",
       "      <th>2022-08-11</th>\n",
       "      <td>24822.628906</td>\n",
       "      <td>23900.996094</td>\n",
       "      <td>23948.345703</td>\n",
       "      <td>23957.529297</td>\n",
       "      <td>37127036580</td>\n",
       "      <td>23957.529297</td>\n",
       "    </tr>\n",
       "    <tr>\n",
       "      <th>2022-08-12</th>\n",
       "      <td>24078.126953</td>\n",
       "      <td>23680.998047</td>\n",
       "      <td>23966.562500</td>\n",
       "      <td>24021.736328</td>\n",
       "      <td>27942895616</td>\n",
       "      <td>24021.736328</td>\n",
       "    </tr>\n",
       "  </tbody>\n",
       "</table>\n",
       "<p>2050 rows × 6 columns</p>\n",
       "</div>"
      ],
      "text/plain": [
       "                    High           Low          Open         Close  \\\n",
       "Date                                                                 \n",
       "2017-01-01   1003.080017    958.698975    963.658020    998.325012   \n",
       "2017-01-02   1031.390015    996.702026    998.617004   1021.750000   \n",
       "2017-01-03   1044.079956   1021.599976   1021.599976   1043.839966   \n",
       "2017-01-04   1159.420044   1044.400024   1044.400024   1154.729980   \n",
       "2017-01-05   1191.099976    910.416992   1156.729980   1013.380005   \n",
       "...                  ...           ...           ...           ...   \n",
       "2022-08-08  24203.689453  23176.546875  23179.527344  23809.486328   \n",
       "2022-08-09  23898.615234  22982.000000  23811.484375  23164.318359   \n",
       "2022-08-10  24127.414062  22771.519531  23162.898438  23947.642578   \n",
       "2022-08-11  24822.628906  23900.996094  23948.345703  23957.529297   \n",
       "2022-08-12  24078.126953  23680.998047  23966.562500  24021.736328   \n",
       "\n",
       "                 Volume     Adj Close  \n",
       "Date                                   \n",
       "2017-01-01    147775008    998.325012  \n",
       "2017-01-02    222184992   1021.750000  \n",
       "2017-01-03    185168000   1043.839966  \n",
       "2017-01-04    344945984   1154.729980  \n",
       "2017-01-05    510199008   1013.380005  \n",
       "...                 ...           ...  \n",
       "2022-08-08  28575544847  23809.486328  \n",
       "2022-08-09  23555719219  23164.318359  \n",
       "2022-08-10  32837431722  23947.642578  \n",
       "2022-08-11  37127036580  23957.529297  \n",
       "2022-08-12  27942895616  24021.736328  \n",
       "\n",
       "[2050 rows x 6 columns]"
      ]
     },
     "execution_count": 4,
     "metadata": {},
     "output_type": "execute_result"
    }
   ],
   "source": [
    "BTC"
   ]
  },
  {
   "cell_type": "markdown",
   "id": "75c1aa7c",
   "metadata": {},
   "source": [
    "Python automatically shows you only the first and last rows of the dataset. Now show the last quotations:"
   ]
  },
  {
   "cell_type": "code",
   "execution_count": 5,
   "id": "490f0e7a",
   "metadata": {},
   "outputs": [
    {
     "data": {
      "text/html": [
       "<div>\n",
       "<style scoped>\n",
       "    .dataframe tbody tr th:only-of-type {\n",
       "        vertical-align: middle;\n",
       "    }\n",
       "\n",
       "    .dataframe tbody tr th {\n",
       "        vertical-align: top;\n",
       "    }\n",
       "\n",
       "    .dataframe thead th {\n",
       "        text-align: right;\n",
       "    }\n",
       "</style>\n",
       "<table border=\"1\" class=\"dataframe\">\n",
       "  <thead>\n",
       "    <tr style=\"text-align: right;\">\n",
       "      <th></th>\n",
       "      <th>High</th>\n",
       "      <th>Low</th>\n",
       "      <th>Open</th>\n",
       "      <th>Close</th>\n",
       "      <th>Volume</th>\n",
       "      <th>Adj Close</th>\n",
       "    </tr>\n",
       "    <tr>\n",
       "      <th>Date</th>\n",
       "      <th></th>\n",
       "      <th></th>\n",
       "      <th></th>\n",
       "      <th></th>\n",
       "      <th></th>\n",
       "      <th></th>\n",
       "    </tr>\n",
       "  </thead>\n",
       "  <tbody>\n",
       "    <tr>\n",
       "      <th>2022-08-08</th>\n",
       "      <td>24203.689453</td>\n",
       "      <td>23176.546875</td>\n",
       "      <td>23179.527344</td>\n",
       "      <td>23809.486328</td>\n",
       "      <td>28575544847</td>\n",
       "      <td>23809.486328</td>\n",
       "    </tr>\n",
       "    <tr>\n",
       "      <th>2022-08-09</th>\n",
       "      <td>23898.615234</td>\n",
       "      <td>22982.000000</td>\n",
       "      <td>23811.484375</td>\n",
       "      <td>23164.318359</td>\n",
       "      <td>23555719219</td>\n",
       "      <td>23164.318359</td>\n",
       "    </tr>\n",
       "    <tr>\n",
       "      <th>2022-08-10</th>\n",
       "      <td>24127.414062</td>\n",
       "      <td>22771.519531</td>\n",
       "      <td>23162.898438</td>\n",
       "      <td>23947.642578</td>\n",
       "      <td>32837431722</td>\n",
       "      <td>23947.642578</td>\n",
       "    </tr>\n",
       "    <tr>\n",
       "      <th>2022-08-11</th>\n",
       "      <td>24822.628906</td>\n",
       "      <td>23900.996094</td>\n",
       "      <td>23948.345703</td>\n",
       "      <td>23957.529297</td>\n",
       "      <td>37127036580</td>\n",
       "      <td>23957.529297</td>\n",
       "    </tr>\n",
       "    <tr>\n",
       "      <th>2022-08-12</th>\n",
       "      <td>24078.126953</td>\n",
       "      <td>23680.998047</td>\n",
       "      <td>23966.562500</td>\n",
       "      <td>24021.736328</td>\n",
       "      <td>27942895616</td>\n",
       "      <td>24021.736328</td>\n",
       "    </tr>\n",
       "  </tbody>\n",
       "</table>\n",
       "</div>"
      ],
      "text/plain": [
       "                    High           Low          Open         Close  \\\n",
       "Date                                                                 \n",
       "2022-08-08  24203.689453  23176.546875  23179.527344  23809.486328   \n",
       "2022-08-09  23898.615234  22982.000000  23811.484375  23164.318359   \n",
       "2022-08-10  24127.414062  22771.519531  23162.898438  23947.642578   \n",
       "2022-08-11  24822.628906  23900.996094  23948.345703  23957.529297   \n",
       "2022-08-12  24078.126953  23680.998047  23966.562500  24021.736328   \n",
       "\n",
       "                 Volume     Adj Close  \n",
       "Date                                   \n",
       "2022-08-08  28575544847  23809.486328  \n",
       "2022-08-09  23555719219  23164.318359  \n",
       "2022-08-10  32837431722  23947.642578  \n",
       "2022-08-11  37127036580  23957.529297  \n",
       "2022-08-12  27942895616  24021.736328  "
      ]
     },
     "execution_count": 5,
     "metadata": {},
     "output_type": "execute_result"
    }
   ],
   "source": [
    "BTC.tail()"
   ]
  },
  {
   "cell_type": "markdown",
   "id": "39edb671",
   "metadata": {},
   "source": [
    "For each period, Yahoo Finance keeps track of the open, high, low, close and adjusted prices. Also, it keeps track of volume that was traded in every period. The adjusted prices are used for stocks, not for currencies. Adjusted prices considered dividend payments and also stock splits.\n",
    "\n",
    "Then, for the Bitcoin series we can use close price to calculate daily returns.\n",
    "\n",
    "Import the matplotlib and do a plot for the Bitcoin closing prices:"
   ]
  },
  {
   "cell_type": "code",
   "execution_count": 6,
   "id": "baa037c2",
   "metadata": {},
   "outputs": [
    {
     "data": {
      "image/png": "[encoded data removed]",
      "text/plain": [
       "<Figure size 432x288 with 1 Axes>"
      ]
     },
     "metadata": {
      "needs_background": "light"
     },
     "output_type": "display_data"
    }
   ],
   "source": [
    "import matplotlib\n",
    "from matplotlib.pyplot import*\n",
    "plot(BTC[\"Close\"])\n",
    "show()"
   ]
  },
  {
   "cell_type": "markdown",
   "id": "fd7c99ed",
   "metadata": {},
   "source": [
    "We can check the data types of each variable (column) in the dataset:"
   ]
  },
  {
   "cell_type": "code",
   "execution_count": 7,
   "id": "938d1987",
   "metadata": {},
   "outputs": [
    {
     "name": "stdout",
     "output_type": "stream",
     "text": [
      "<class 'pandas.core.frame.DataFrame'>\n",
      "DatetimeIndex: 2050 entries, 2017-01-01 to 2022-08-12\n",
      "Data columns (total 6 columns):\n",
      " #   Column     Non-Null Count  Dtype  \n",
      "---  ------     --------------  -----  \n",
      " 0   High       2050 non-null   float64\n",
      " 1   Low        2050 non-null   float64\n",
      " 2   Open       2050 non-null   float64\n",
      " 3   Close      2050 non-null   float64\n",
      " 4   Volume     2050 non-null   int64  \n",
      " 5   Adj Close  2050 non-null   float64\n",
      "dtypes: float64(5), int64(1)\n",
      "memory usage: 112.1 KB\n"
     ]
    }
   ],
   "source": [
    "BTC.info()"
   ]
  },
  {
   "cell_type": "markdown",
   "id": "0963cedb",
   "metadata": {},
   "source": [
    "### __Data transformations__"
   ]
  },
  {
   "cell_type": "markdown",
   "id": "b125f1a3",
   "metadata": {},
   "source": [
    "We will calculate a) the natural logarithm of prices and b) returns.\n",
    "\n",
    "The logarithm of prices are very useful for statistical analyis. The return of a price or an investment is the % change of the price from one period to the next."
   ]
  },
  {
   "cell_type": "markdown",
   "id": "fc47da7b",
   "metadata": {},
   "source": [
    "#### __Return calculation__"
   ]
  },
  {
   "cell_type": "markdown",
   "id": "26e4b69a",
   "metadata": {},
   "source": [
    "A financial simple return for a stock (R_t) is calculated as a percentage change of price from the previous period (t-1) to the present period (t):\n",
    "$$ R_{t}=\\frac{\\left(price_{t}-price_{t-1}\\right)}{price_{t-1}}=\\frac{price_{t}}{price_{t-1}}-1 $$\n",
    "\n",
    "For example, if the adjusted price of a stock at the end of January 2021 was $100.00, and its previous (December 2020) adjusted price was $80.00, then the monthly simple return of the stock in January 2021 will be:\n",
    "$$R_{Jan2021}=\\frac{price_{Jan2021}}{price_{Dec2020}}-1=\\frac{100}{80}-1=0.25$$\n",
    "\n",
    "We can use returns in decimal or in percentage (multiplying by 100). We will keep using decimals.\n",
    "\n",
    "In Finance it is very recommended to calculate continuously compounded returns (cc returns) and using cc returns instead of simple returns for data analysis, statistics and econometric models. cc returns are calculated from the natural logarithm of prices."
   ]
  },
  {
   "cell_type": "markdown",
   "id": "323741e2",
   "metadata": {},
   "source": [
    "#### __Reviewing the concept of natural logarithm__"
   ]
  },
  {
   "cell_type": "markdown",
   "id": "56ec0b1a",
   "metadata": {},
   "source": [
    "*What is a natural logarithm?*\n",
    "\n",
    "The natural logarithm of a number is the __exponent__ that the number e (=2.71…) needs to be raised to get another number. For example, let’s name x=natural logarithm of a stock price p. Then:\n",
    "$$e^x = p$$\n",
    "\n",
    "The way to get the value of x that satisfies this equality is actually getting the natural log of p:\n",
    "$$x = log_e(p)$$\n",
    "\n",
    "Then, we have to remember that the __natural logarithm is actually an exponent that you need to raise the number e__ to get a specific number.\n",
    "\n",
    "The natural log is the logarithm of base  (=2.71…). The number  is an irrational number (it cannot be expressed as a division of 2 natural numbers), and it is also called the *Euler constant*. Leonard Euler (1707-1783) took the idea of the logarithm from the great mathematician Jacob Bernoulli, and discovered very astonishing features of the  number. Euler is considered the most productive mathematician of all times. Some historians believe that Jacob Bernoulli discovered the number  around 1690 when he was playing with calculations to know how an amount of money grows over time with an interest rate.\n",
    "\n",
    "How  is related to the grow of financial amounts over time?"
   ]
  },
  {
   "cell_type": "markdown",
   "id": "1855767a",
   "metadata": {},
   "source": [
    "Here is a simple example:\n",
    "\n",
    "If I invest $100.00 with an annual interest rate of 50%, then the end balance of my investment at the end of the first year (at the beginning of year 2) will be:\n",
    "$$ I_2=100*(1+0.50)^1=150 $$\n",
    "\n",
    "If the interest rate is 100%, then I would get:\n",
    "$$ I_2=100*(1+1)^1=200 $$\n",
    "\n",
    "Then, the general formula to get the final amount of my investment at the beginning of year 2, for any interest rate R can be:\n",
    "$$ I_2=I_1*(1+R)^1 $$\n",
    "\n",
    "The (1+R) is the growth factor of my investment.\n",
    "\n",
    "In Finance, the investment amount is called principal. If the interests are calculated (compounded) each month instead of each year, then I would end up with a higher amount at the end of the year.\n",
    "\n",
    "Monthly compounding means that a monthly interest rate is applied to the amount to get the interest of the month, and then the interest of the month is added to the investment (principal). Then, for month 2 the principal will be higher than the initial investment. At the end of month 2 the interest will be calculated using the updated principal amount. Putting in simple math terms, the final balance of an investment at the beginning of year 2 when doing monthly compounding will be:\n",
    "$$ I_2=I_1*\\left(1+\\frac{R}{N}\\right)^{1*N} $$\n",
    "\n",
    "For monthly compounding, N=12, so the monthly interest rate is equal to the annual interest rate R divided by N (R/N). Then, with an annual rate of 100% and monthly compounding (N=12):\n",
    "$$ I_2=100*\\left(1+\\frac{1}{12}\\right)^{1*12}=100*(2.613..) $$\n",
    "\n",
    "In this case, the growth factor is (1 + 1/2)^12, which is equal to 2.613.\n",
    "\n",
    "Instead of compounding each month, if the compounding is every moment, then we are doing a continuously compounded rate.\n",
    "\n",
    "If we do a continuously compounding for the previous example, then the growth factor for one year becomes the astonishing Euler constant e:\n",
    "\n",
    "Let’s do an example for a compounding of each second (1 year has 31,536,000 seconds). The investment at the end of the year 1 (or at the beginning of year 2) will be:\n",
    "$$ I_2=100*\\left(1+\\frac{1}{31536000}\\right)^{1*31536000}=100*(2.718282..)\\cong100*e^1 $$\n",
    "\n",
    "Now we see that e^1 is the GROWTH FACTOR after 1 year if we do the compounding of the interests every moment!\n",
    "\n",
    "We can generalize to any other annual interest rate R, so that e^R is the growth factor for an annual nominal rate R when the interests are compounded every moment.\n",
    "\n",
    "When compounding every instant, we use small r instead of R for the interest rate. Then, the growth factor will be:\n",
    "$$e_{r}$$\n",
    "\n",
    "Then we can do a relationship between this growth rate and an effective equivalent rate:\n",
    "$$ \\left(1+EffectiveRate\\right)=e^{r} $$\n",
    "\n",
    "If we apply the natural logarithm to both sides of the equation:\n",
    "$$ ln\\left(1+EffectiveRate\\right)=ln\\left(e^r\\right) $$\n",
    "\n",
    "Since the natural logarithm function is the inverse of the exponential function, then:\n",
    "$$ ln\\left(1+EffectiveRate\\right)=r $$\n",
    "\n",
    "In the previous example with a nominal rate of 100%, when doing a continuously compounding, then the effective rate will be:\n",
    "$$ \\left(1+EffectiveRate\\right)=e^{r}=2.7182 $$\n",
    "$$ EffectiveRate=e^{r}-1 $$\n",
    "\n",
    "Doing the calculation of the effective rate for this example:\n",
    "$$ EffectiveRate=e^{1}-1 = 2.7182.. - 1 = 1.7182 = 171.82\\% $$\n",
    "\n",
    "Then, when compounding every moment, starting with a nominal rate of 100% annual interest rate, the actual effective annual rate would be 171.82%!"
   ]
  },
  {
   "cell_type": "markdown",
   "id": "4355b18d",
   "metadata": {},
   "source": [
    "#### __Continuously compounded returns__"
   ]
  },
  {
   "cell_type": "markdown",
   "id": "dbefbc69",
   "metadata": {},
   "source": [
    "One way to calculate cc returns is by subtracting the log of the current price (at t) minus the log of the previous price (at t-1):\n",
    "$$ r_{t}=log(price_{t})-log(price_{t-1}) $$\n",
    "\n",
    "cc returns are usually represented by small r, while simple returns are represented by capital R.\n",
    "\n",
    "In Python we can get the previous value of a variable using the shift(n) function. This function works for Panda dataframes. Then we can calculate a new column for the simple returns of Bitcoin as follows:"
   ]
  },
  {
   "cell_type": "code",
   "execution_count": 8,
   "id": "90e7f314",
   "metadata": {},
   "outputs": [
    {
     "name": "stdout",
     "output_type": "stream",
     "text": [
      "Date\n",
      "2017-01-01         NaN\n",
      "2017-01-02    0.023464\n",
      "2017-01-03    0.021620\n",
      "2017-01-04    0.106233\n",
      "2017-01-05   -0.122410\n",
      "                ...   \n",
      "2022-08-08    0.027339\n",
      "2022-08-09   -0.027097\n",
      "2022-08-10    0.033816\n",
      "2022-08-11    0.000413\n",
      "2022-08-12    0.002680\n",
      "Name: R, Length: 2050, dtype: float64\n"
     ]
    }
   ],
   "source": [
    "BTC[\"R\"] = (BTC[\"Close\"] / BTC[\"Close\"].shift(1)) - 1\n",
    "print(BTC[\"R\"])"
   ]
  },
  {
   "cell_type": "markdown",
   "id": "bbbf3046",
   "metadata": {},
   "source": [
    "Now we calculate cc returns in a new column using the shift function:"
   ]
  },
  {
   "cell_type": "code",
   "execution_count": 9,
   "id": "12856f0b",
   "metadata": {},
   "outputs": [],
   "source": [
    "BTC[\"r\"] = np.log(BTC['Adj Close']) - np.log(BTC['Adj Close'].shift(1))\n",
    "BTCR = BTC[['R','r']].copy()"
   ]
  },
  {
   "cell_type": "markdown",
   "id": "d799a691",
   "metadata": {},
   "source": [
    "We have a null value for the first day since we cannot calculate returns for day 1. We can drop the rows with NA values to ease data calculations:"
   ]
  },
  {
   "cell_type": "code",
   "execution_count": 10,
   "id": "13b9f6f5",
   "metadata": {},
   "outputs": [],
   "source": [
    "BTC= BTC.dropna()"
   ]
  },
  {
   "cell_type": "markdown",
   "id": "47ca12d8",
   "metadata": {},
   "source": [
    "#### __Descriptive statistics of returns__"
   ]
  },
  {
   "cell_type": "markdown",
   "id": "724a3e78",
   "metadata": {},
   "source": [
    "We can use the describe function applied to the r column as follows:"
   ]
  },
  {
   "cell_type": "code",
   "execution_count": 11,
   "id": "344dc283",
   "metadata": {},
   "outputs": [
    {
     "data": {
      "text/plain": [
       "count    2049.000000\n",
       "mean        0.002416\n",
       "std         0.041359\n",
       "min        -0.371695\n",
       "25%        -0.015882\n",
       "50%         0.002217\n",
       "75%         0.020916\n",
       "max         0.252472\n",
       "Name: R, dtype: float64"
      ]
     },
     "execution_count": 11,
     "metadata": {},
     "output_type": "execute_result"
    }
   ],
   "source": [
    "sumret = BTC[\"R\"].describe()\n",
    "sumret"
   ]
  },
  {
   "cell_type": "markdown",
   "id": "4d8f9f0c",
   "metadata": {},
   "source": [
    "We see that the mean of daily Bitcoin returns is very close to 0 (0.2%), while standard deviation is above 4.1%! The worse day of Bitcoin was about -37.1%! and the best day was 25.2% of return.\n",
    "\n",
    "To know which days were the worse, we can do a selection based on a condition. Let’s see which days had a daily return less than 15%:"
   ]
  },
  {
   "cell_type": "code",
   "execution_count": 12,
   "id": "eda02738",
   "metadata": {},
   "outputs": [
    {
     "data": {
      "text/html": [
       "<div>\n",
       "<style scoped>\n",
       "    .dataframe tbody tr th:only-of-type {\n",
       "        vertical-align: middle;\n",
       "    }\n",
       "\n",
       "    .dataframe tbody tr th {\n",
       "        vertical-align: top;\n",
       "    }\n",
       "\n",
       "    .dataframe thead th {\n",
       "        text-align: right;\n",
       "    }\n",
       "</style>\n",
       "<table border=\"1\" class=\"dataframe\">\n",
       "  <thead>\n",
       "    <tr style=\"text-align: right;\">\n",
       "      <th></th>\n",
       "      <th>High</th>\n",
       "      <th>Low</th>\n",
       "      <th>Open</th>\n",
       "      <th>Close</th>\n",
       "      <th>Volume</th>\n",
       "      <th>Adj Close</th>\n",
       "      <th>R</th>\n",
       "      <th>r</th>\n",
       "    </tr>\n",
       "    <tr>\n",
       "      <th>Date</th>\n",
       "      <th></th>\n",
       "      <th></th>\n",
       "      <th></th>\n",
       "      <th></th>\n",
       "      <th></th>\n",
       "      <th></th>\n",
       "      <th></th>\n",
       "      <th></th>\n",
       "    </tr>\n",
       "  </thead>\n",
       "  <tbody>\n",
       "    <tr>\n",
       "      <th>2017-09-14</th>\n",
       "      <td>3920.600098</td>\n",
       "      <td>3153.860107</td>\n",
       "      <td>3875.370117</td>\n",
       "      <td>3154.949951</td>\n",
       "      <td>2716310016</td>\n",
       "      <td>3154.949951</td>\n",
       "      <td>-0.187411</td>\n",
       "      <td>-0.207530</td>\n",
       "    </tr>\n",
       "    <tr>\n",
       "      <th>2018-01-16</th>\n",
       "      <td>13843.099609</td>\n",
       "      <td>10194.900391</td>\n",
       "      <td>13836.099609</td>\n",
       "      <td>11490.500000</td>\n",
       "      <td>18853799936</td>\n",
       "      <td>11490.500000</td>\n",
       "      <td>-0.168548</td>\n",
       "      <td>-0.184582</td>\n",
       "    </tr>\n",
       "    <tr>\n",
       "      <th>2018-02-05</th>\n",
       "      <td>8364.839844</td>\n",
       "      <td>6756.680176</td>\n",
       "      <td>8270.540039</td>\n",
       "      <td>6955.270020</td>\n",
       "      <td>9285289984</td>\n",
       "      <td>6955.270020</td>\n",
       "      <td>-0.159688</td>\n",
       "      <td>-0.173982</td>\n",
       "    </tr>\n",
       "    <tr>\n",
       "      <th>2020-03-12</th>\n",
       "      <td>7929.116211</td>\n",
       "      <td>4860.354004</td>\n",
       "      <td>7913.616211</td>\n",
       "      <td>4970.788086</td>\n",
       "      <td>53980357243</td>\n",
       "      <td>4970.788086</td>\n",
       "      <td>-0.371695</td>\n",
       "      <td>-0.464730</td>\n",
       "    </tr>\n",
       "    <tr>\n",
       "      <th>2022-06-13</th>\n",
       "      <td>26795.589844</td>\n",
       "      <td>22141.257812</td>\n",
       "      <td>26737.578125</td>\n",
       "      <td>22487.388672</td>\n",
       "      <td>68204556440</td>\n",
       "      <td>22487.388672</td>\n",
       "      <td>-0.159747</td>\n",
       "      <td>-0.174053</td>\n",
       "    </tr>\n",
       "  </tbody>\n",
       "</table>\n",
       "</div>"
      ],
      "text/plain": [
       "                    High           Low          Open         Close  \\\n",
       "Date                                                                 \n",
       "2017-09-14   3920.600098   3153.860107   3875.370117   3154.949951   \n",
       "2018-01-16  13843.099609  10194.900391  13836.099609  11490.500000   \n",
       "2018-02-05   8364.839844   6756.680176   8270.540039   6955.270020   \n",
       "2020-03-12   7929.116211   4860.354004   7913.616211   4970.788086   \n",
       "2022-06-13  26795.589844  22141.257812  26737.578125  22487.388672   \n",
       "\n",
       "                 Volume     Adj Close         R         r  \n",
       "Date                                                       \n",
       "2017-09-14   2716310016   3154.949951 -0.187411 -0.207530  \n",
       "2018-01-16  18853799936  11490.500000 -0.168548 -0.184582  \n",
       "2018-02-05   9285289984   6955.270020 -0.159688 -0.173982  \n",
       "2020-03-12  53980357243   4970.788086 -0.371695 -0.464730  \n",
       "2022-06-13  68204556440  22487.388672 -0.159747 -0.174053  "
      ]
     },
     "execution_count": 12,
     "metadata": {},
     "output_type": "execute_result"
    }
   ],
   "source": [
    "BTC[BTC[\"R\"]<-0.15]"
   ]
  },
  {
   "cell_type": "markdown",
   "id": "10ab5c48",
   "metadata": {},
   "source": [
    "The worst day for the Bitcoin was March 12, 2020, which is the beginning of the COVID crisis.\n",
    "\n",
    "To know the best days for Bitcoin:"
   ]
  },
  {
   "cell_type": "code",
   "execution_count": 13,
   "id": "6577deaf",
   "metadata": {},
   "outputs": [
    {
     "data": {
      "text/html": [
       "<div>\n",
       "<style scoped>\n",
       "    .dataframe tbody tr th:only-of-type {\n",
       "        vertical-align: middle;\n",
       "    }\n",
       "\n",
       "    .dataframe tbody tr th {\n",
       "        vertical-align: top;\n",
       "    }\n",
       "\n",
       "    .dataframe thead th {\n",
       "        text-align: right;\n",
       "    }\n",
       "</style>\n",
       "<table border=\"1\" class=\"dataframe\">\n",
       "  <thead>\n",
       "    <tr style=\"text-align: right;\">\n",
       "      <th></th>\n",
       "      <th>High</th>\n",
       "      <th>Low</th>\n",
       "      <th>Open</th>\n",
       "      <th>Close</th>\n",
       "      <th>Volume</th>\n",
       "      <th>Adj Close</th>\n",
       "      <th>R</th>\n",
       "      <th>r</th>\n",
       "    </tr>\n",
       "    <tr>\n",
       "      <th>Date</th>\n",
       "      <th></th>\n",
       "      <th></th>\n",
       "      <th></th>\n",
       "      <th></th>\n",
       "      <th></th>\n",
       "      <th></th>\n",
       "      <th></th>\n",
       "      <th></th>\n",
       "    </tr>\n",
       "  </thead>\n",
       "  <tbody>\n",
       "    <tr>\n",
       "      <th>2017-12-07</th>\n",
       "      <td>17899.699219</td>\n",
       "      <td>14057.299805</td>\n",
       "      <td>14266.099609</td>\n",
       "      <td>17899.699219</td>\n",
       "      <td>17950699520</td>\n",
       "      <td>17899.699219</td>\n",
       "      <td>0.252472</td>\n",
       "      <td>0.225119</td>\n",
       "    </tr>\n",
       "    <tr>\n",
       "      <th>2017-07-20</th>\n",
       "      <td>2900.699951</td>\n",
       "      <td>2269.889893</td>\n",
       "      <td>2269.889893</td>\n",
       "      <td>2817.600098</td>\n",
       "      <td>2249260032</td>\n",
       "      <td>2817.600098</td>\n",
       "      <td>0.239361</td>\n",
       "      <td>0.214596</td>\n",
       "    </tr>\n",
       "    <tr>\n",
       "      <th>2017-12-06</th>\n",
       "      <td>14369.099609</td>\n",
       "      <td>11923.400391</td>\n",
       "      <td>11923.400391</td>\n",
       "      <td>14291.500000</td>\n",
       "      <td>12656300032</td>\n",
       "      <td>14291.500000</td>\n",
       "      <td>0.199283</td>\n",
       "      <td>0.181724</td>\n",
       "    </tr>\n",
       "    <tr>\n",
       "      <th>2021-02-08</th>\n",
       "      <td>46203.929688</td>\n",
       "      <td>38076.324219</td>\n",
       "      <td>38886.828125</td>\n",
       "      <td>46196.464844</td>\n",
       "      <td>101467222687</td>\n",
       "      <td>46196.464844</td>\n",
       "      <td>0.187465</td>\n",
       "      <td>0.171821</td>\n",
       "    </tr>\n",
       "    <tr>\n",
       "      <th>2020-03-19</th>\n",
       "      <td>6329.735840</td>\n",
       "      <td>5236.968750</td>\n",
       "      <td>5245.416504</td>\n",
       "      <td>6191.192871</td>\n",
       "      <td>51000731797</td>\n",
       "      <td>6191.192871</td>\n",
       "      <td>0.181878</td>\n",
       "      <td>0.167104</td>\n",
       "    </tr>\n",
       "    <tr>\n",
       "      <th>2019-04-02</th>\n",
       "      <td>4905.954590</td>\n",
       "      <td>4155.316895</td>\n",
       "      <td>4156.919434</td>\n",
       "      <td>4879.877930</td>\n",
       "      <td>21315047816</td>\n",
       "      <td>4879.877930</td>\n",
       "      <td>0.173560</td>\n",
       "      <td>0.160042</td>\n",
       "    </tr>\n",
       "    <tr>\n",
       "      <th>2019-10-25</th>\n",
       "      <td>8691.540039</td>\n",
       "      <td>7479.984375</td>\n",
       "      <td>7490.703125</td>\n",
       "      <td>8660.700195</td>\n",
       "      <td>28705065488</td>\n",
       "      <td>8660.700195</td>\n",
       "      <td>0.155763</td>\n",
       "      <td>0.144761</td>\n",
       "    </tr>\n",
       "    <tr>\n",
       "      <th>2017-07-17</th>\n",
       "      <td>2230.489990</td>\n",
       "      <td>1932.619995</td>\n",
       "      <td>1932.619995</td>\n",
       "      <td>2228.409912</td>\n",
       "      <td>1201760000</td>\n",
       "      <td>2228.409912</td>\n",
       "      <td>0.154724</td>\n",
       "      <td>0.143862</td>\n",
       "    </tr>\n",
       "    <tr>\n",
       "      <th>2017-09-15</th>\n",
       "      <td>3733.449951</td>\n",
       "      <td>2946.620117</td>\n",
       "      <td>3166.300049</td>\n",
       "      <td>3637.520020</td>\n",
       "      <td>4148069888</td>\n",
       "      <td>3637.520020</td>\n",
       "      <td>0.152956</td>\n",
       "      <td>0.142330</td>\n",
       "    </tr>\n",
       "  </tbody>\n",
       "</table>\n",
       "</div>"
      ],
      "text/plain": [
       "                    High           Low          Open         Close  \\\n",
       "Date                                                                 \n",
       "2017-12-07  17899.699219  14057.299805  14266.099609  17899.699219   \n",
       "2017-07-20   2900.699951   2269.889893   2269.889893   2817.600098   \n",
       "2017-12-06  14369.099609  11923.400391  11923.400391  14291.500000   \n",
       "2021-02-08  46203.929688  38076.324219  38886.828125  46196.464844   \n",
       "2020-03-19   6329.735840   5236.968750   5245.416504   6191.192871   \n",
       "2019-04-02   4905.954590   4155.316895   4156.919434   4879.877930   \n",
       "2019-10-25   8691.540039   7479.984375   7490.703125   8660.700195   \n",
       "2017-07-17   2230.489990   1932.619995   1932.619995   2228.409912   \n",
       "2017-09-15   3733.449951   2946.620117   3166.300049   3637.520020   \n",
       "\n",
       "                  Volume     Adj Close         R         r  \n",
       "Date                                                        \n",
       "2017-12-07   17950699520  17899.699219  0.252472  0.225119  \n",
       "2017-07-20    2249260032   2817.600098  0.239361  0.214596  \n",
       "2017-12-06   12656300032  14291.500000  0.199283  0.181724  \n",
       "2021-02-08  101467222687  46196.464844  0.187465  0.171821  \n",
       "2020-03-19   51000731797   6191.192871  0.181878  0.167104  \n",
       "2019-04-02   21315047816   4879.877930  0.173560  0.160042  \n",
       "2019-10-25   28705065488   8660.700195  0.155763  0.144761  \n",
       "2017-07-17    1201760000   2228.409912  0.154724  0.143862  \n",
       "2017-09-15    4148069888   3637.520020  0.152956  0.142330  "
      ]
     },
     "execution_count": 13,
     "metadata": {},
     "output_type": "execute_result"
    }
   ],
   "source": [
    "BTC[BTC[\"R\"]>0.15].sort_values(by=['R'], ascending=False)"
   ]
  },
  {
   "cell_type": "markdown",
   "id": "4012096b",
   "metadata": {},
   "source": [
    "We can also get the main descriptive statistics using specific functions like:"
   ]
  },
  {
   "cell_type": "code",
   "execution_count": 14,
   "id": "1380ca2e",
   "metadata": {},
   "outputs": [
    {
     "name": "stdout",
     "output_type": "stream",
     "text": [
      "The daily average return of Bitcoin is  0.001552286721795483\n",
      "The daily variance of Bitcoin is  0.0017364018412889142\n",
      "The daily standard deviation (volatility) of Bitcoin return is  0.041670155282755\n",
      "The daily median return of Bitcoin is  0.0022150257023572095\n"
     ]
    }
   ],
   "source": [
    "print(\"The daily average return of Bitcoin is \", BTC[\"r\"].mean())\n",
    "print(\"The daily variance of Bitcoin is \", BTC[\"r\"].var())\n",
    "print(\"The daily standard deviation (volatility) of Bitcoin return is \", BTC[\"r\"].std())\n",
    "print(\"The daily median return of Bitcoin is \",BTC[\"r\"].median())"
   ]
  },
  {
   "cell_type": "markdown",
   "metadata": {},
   "source": [
    "## __CHALLENGES: Histogram__"
   ]
  },
  {
   "cell_type": "markdown",
   "id": "d05ec8fb",
   "metadata": {},
   "source": [
    "- Do a histogram for daily Bitcoin cc returns. Hints: use the plot.hist function for pandas dataframes, and the BTC dataframe."
   ]
  },
  {
   "cell_type": "code",
   "execution_count": 15,
   "id": "9cb20966",
   "metadata": {},
   "outputs": [
    {
     "data": {
      "image/png": "[encoded data removed]",
      "text/plain": [
       "<Figure size 432x288 with 1 Axes>"
      ]
     },
     "metadata": {
      "needs_background": "light"
     },
     "output_type": "display_data"
    }
   ],
   "source": [
    "dailyBTC = pd.DataFrame(BTC[[\"R\"]])\n",
    "histogram = dailyBTC.plot.hist(bins=12,alpha=0.5,title=\"Histogram of daily Bitcoin Returns\")"
   ]
  },
  {
   "cell_type": "markdown",
   "id": "fd65118b",
   "metadata": {},
   "source": [
    "- Interpret the histogram with your own words and in CAPITAL LETTERS\n",
    "    \n",
    "EN EL HISTOGRAMA PODEMOS OBSERVAR QUE EL CRECIMIENTO DEL VALOR DE BITCOIN ES MAYORMENTE DEL 0% AL 5%, SIN EMBARGO SIGUE UNA DISMINUCIÓN EN SU VALOR DE HASTA EL 8%"
   ]
  },
  {
   "cell_type": "markdown",
   "id": "7770d64f",
   "metadata": {},
   "source": [
    "We use the histogram to visualize random variables with historical values. For expected values of random variables we can use the concept of probability density function, which is analogous to the concept of the histogram, but applied to the expectation of possible values of a random variable."
   ]
  },
  {
   "cell_type": "markdown",
   "id": "a03e9e02",
   "metadata": {},
   "source": [
    "## __CHALLENGE: Simulating the normal distribution__"
   ]
  },
  {
   "cell_type": "markdown",
   "id": "10e0bff2",
   "metadata": {},
   "source": [
    "Use the mean and standard deviation of the historical cc returns of Bitcoin and simulate the same # of returns as the days we dowloaded in the BTC dataframe.\n",
    "\n",
    "In one plot show both, the real distribution of historical cc returns and the simulated normal distribution.\n",
    "\n",
    "DO YOU SEE A DIFFERENCE BEWEEN THE REAL VS THE SIMULATED RETURNS? BRIEFLY EXPLAIN."
   ]
  },
  {
   "cell_type": "code",
   "execution_count": 16,
   "id": "8c189f94",
   "metadata": {},
   "outputs": [
    {
     "data": {
      "image/png": "[encoded data removed]",
      "text/plain": [
       "<Figure size 432x288 with 1 Axes>"
      ]
     },
     "metadata": {
      "needs_background": "light"
     },
     "output_type": "display_data"
    }
   ],
   "source": [
    "from matplotlib import pyplot as plt\n",
    "\n",
    "x = pd.DataFrame(BTC[[\"R\"]]).to_numpy()\n",
    "y = np.random.normal(loc=BTC[\"R\"].mean(), scale=BTC[\"R\"].std(), size=len(BTC))\n",
    "bins = 120\n",
    "\n",
    "plt.hist(y, bins, alpha=0.5, label=\"Simulated Returns\")\n",
    "plt.hist(x, bins, alpha=0.5, label=\"Real Returns\")\n",
    "plt.legend(loc='upper right')\n",
    "plt.title(\"Histogram of Bitcoin Returns\")\n",
    "plt.show()"
   ]
  },
  {
   "cell_type": "markdown",
   "id": "36cb9676",
   "metadata": {},
   "source": [
    "EN EL HISTOGRAMA PODEMOS OBSERVAR COMO LA DIFERENCIA ENTRE LOS DATOS REALES DEL VALOR DEL BITCOIN QUE TIENE UN CAMBIO MÁS ABRUPTO EN COMPARACIÓN CON LA SIMULACIÓN QUE TIENE UNA MENOR FRECUENCIA DE CAMBIO, LO QUE CAUSA UNA MENOR VARIACIÓN EN LOS DATOS EN LOS DIFERENTES PUNTOS DEL HISTOGRAMA."
   ]
  },
  {
   "cell_type": "code",
   "execution_count": null,
   "id": "2296c9bd",
   "metadata": {},
   "outputs": [],
   "source": []
  }
 ],
 "metadata": {
  "kernelspec": {
   "display_name": "Python 3.8.5 ('base')",
   "language": "python",
   "name": "python3"
  },
  "language_info": {
   "codemirror_mode": {
    "name": "ipython",
    "version": 3
   },
   "file_extension": ".py",
   "mimetype": "text/x-python",
   "name": "python",
   "nbconvert_exporter": "python",
   "pygments_lexer": "ipython3",
   "version": "3.8.5"
  },
  "vscode": {
   "interpreter": {
    "hash": "437a4b58f269e6e7b32a6d55bbcbeee7fac7b1a936f84ed54bdc3e1d181a9290"
   }
  }
 },
 "nbformat": 4,
 "nbformat_minor": 5
}
