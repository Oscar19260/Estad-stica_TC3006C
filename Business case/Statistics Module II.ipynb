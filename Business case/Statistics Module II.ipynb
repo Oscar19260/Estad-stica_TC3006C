{
 "cells": [
  {
   "cell_type": "markdown",
   "metadata": {},
   "source": [
    "# Business case: Understanding profitability in the US financial market\n",
    "\n",
    "This is business case prepared for the Statistics Module (Bloque 1) of the Advanced AI concentration"
   ]
  },
  {
   "cell_type": "markdown",
   "metadata": {},
   "source": [
    "## Case Description\n",
    "\n",
    "You were hired as a data scientist in an important mutual fund firm in the department of financial analysis. The firm has been doing financial analysis and financial forecast for several years. You were hired to come up with alternative approaches to do descriptive analytics in order to find better future alternatives for forecasting methods.\n",
    "\n",
    "You have to analyze historical quarterly financial statements of all US public firms listed in the New York Exchange and NASDAQ. You will receive this dataset in a .csv format.\n",
    "\n",
    "You have to carefully read the data dictionary to understand each variable and the dataset to understand its structure."
   ]
  },
  {
   "cell_type": "markdown",
   "metadata": {},
   "source": [
    "## Business Questions\n",
    "\n",
    "All your data and statistical analysis has to be tailored to respond the following questions:"
   ]
  },
  {
   "cell_type": "markdown",
   "metadata": {},
   "source": [
    "### General questions:\n",
    "\n",
    "By industry, what is the composition of US public firms in terms of firm size, sales performance and profitability?\n",
    "\n",
    "Why some firms are more profitable than others? Which factors/variables from financial statements are related to stock returns?"
   ]
  },
  {
   "cell_type": "markdown",
   "metadata": {},
   "source": [
    "#### __About statistical modeling__"
   ]
  },
  {
   "cell_type": "markdown",
   "metadata": {},
   "source": [
    "- You have to select a group of firms according to their general industry classification:\n",
    "    - Manufacturing industries\n",
    "    - Commercial industries (retail and wholesale)\n",
    "    - Service industries\n",
    "    - __Financial services__"
   ]
  },
  {
   "cell_type": "code",
   "execution_count": null,
   "metadata": {},
   "outputs": [],
   "source": []
  },
  {
   "cell_type": "markdown",
   "metadata": {},
   "source": [
    "- Using your subset of firms that belong to your industry, which factors (variables) might be related to annual stock return one quarter in the future? Select at least 3 factors and briefly explain why you think might be related to stock returns.\n",
    "    - Do histograms for each factor/variables and interpret them\n",
    "    - Do plots to visualize the possible relationship each factor might have with the dependent variable.\n",
    "    - Show descriptive statistics of these factors"
   ]
  },
  {
   "cell_type": "code",
   "execution_count": null,
   "metadata": {},
   "outputs": [],
   "source": []
  },
  {
   "cell_type": "markdown",
   "metadata": {},
   "source": [
    "- Design and run a multiple regression model to examine whether your selected factors and earnings per share deflated by price can explain/predict annual stock returns. You have to control for industry and firm size. To control for these variables you have to include them as extra independent variables in the model\n",
    "    - Your independent variables must be in the right scale so that you can compare the values of the variables among different firms of any size\n",
    "    - For each independent variable you have to check for outliers and do the corresponding adjustments to avoid unreliable results in your regression model\n",
    "    - You must check for possible multicollinearity problems. Briefly explain what is multicollinearity, run and interpret the corresponding test"
   ]
  },
  {
   "cell_type": "code",
   "execution_count": null,
   "metadata": {},
   "outputs": [],
   "source": []
  },
  {
   "cell_type": "markdown",
   "metadata": {},
   "source": [
    "- Interpret your model\n",
    "    - Interpret the results of each coefficient (beta and their statistical significance)\n",
    "    - Interpret the R-squared of the model"
   ]
  },
  {
   "cell_type": "code",
   "execution_count": null,
   "metadata": {},
   "outputs": [],
   "source": []
  },
  {
   "cell_type": "markdown",
   "metadata": {},
   "source": [
    "- Adjustments to your model. If there is one or more independent variables (factors or control variables) that were not significant, drop them from your model. You have to run and interpret your final model."
   ]
  },
  {
   "cell_type": "code",
   "execution_count": null,
   "metadata": {},
   "outputs": [],
   "source": []
  },
  {
   "cell_type": "code",
   "execution_count": null,
   "metadata": {},
   "outputs": [],
   "source": []
  },
  {
   "cell_type": "code",
   "execution_count": 3,
   "metadata": {},
   "outputs": [
    {
     "name": "stdout",
     "output_type": "stream",
     "text": [
      "\n"
     ]
    }
   ],
   "source": [
    "\"\"\"\n",
    "Notes:                      Future\n",
    "    - Dependet variable => Stock Annual Returns (cc.) 1 Quarter\n",
    "                            Later (F1r) -> returns shifted one\n",
    "    \n",
    "    Catalog (possible) Independent variables\n",
    "    EPSP = EPS / StockPrice\n",
    "    EPS = NetIncome / sharesoutstanding\n",
    "\n",
    "    *** SELECT 3 ***\n",
    "    1) Sales annual growth = (revenue_t / revenue(t-4)) - 1\n",
    "    2) Operating profit growth\n",
    "       Operating profit = EBIT (Earning Befora Interest and Taxes)\n",
    "    3) Operating profit margin = EBIT / revenue\n",
    "    4) Book-to-market ratio = book value / market value = (totalassets - totalliabilities) / (originalprice * sharesoutstanding)\n",
    "    5) Short financial leverage = shortdebt / totalassets\n",
    "    6) Long financial leverage = longdebt / totalassets\n",
    "\"\"\"\n"
   ]
  }
 ],
 "metadata": {
  "kernelspec": {
   "display_name": "Python 3.8.5 ('base')",
   "language": "python",
   "name": "python3"
  },
  "language_info": {
   "codemirror_mode": {
    "name": "ipython",
    "version": 3
   },
   "file_extension": ".py",
   "mimetype": "text/x-python",
   "name": "python",
   "nbconvert_exporter": "python",
   "pygments_lexer": "ipython3",
   "version": "3.8.5"
  },
  "orig_nbformat": 4,
  "vscode": {
   "interpreter": {
    "hash": "437a4b58f269e6e7b32a6d55bbcbeee7fac7b1a936f84ed54bdc3e1d181a9290"
   }
  }
 },
 "nbformat": 4,
 "nbformat_minor": 2
}
