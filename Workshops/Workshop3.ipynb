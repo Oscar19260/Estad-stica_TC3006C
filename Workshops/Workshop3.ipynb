{
 "cells": [
  {
   "cell_type": "markdown",
   "metadata": {},
   "source": [
    "# __Workshop 3, Advanced AI - Statistics Module__"
   ]
  },
  {
   "cell_type": "markdown",
   "metadata": {},
   "source": [
    "## __Hypothesis testing - comparing the mean of 2 groups__"
   ]
  },
  {
   "cell_type": "code",
   "execution_count": 2,
   "metadata": {},
   "outputs": [
    {
     "data": {
      "text/html": [
       "<div>\n",
       "<style scoped>\n",
       "    .dataframe tbody tr th:only-of-type {\n",
       "        vertical-align: middle;\n",
       "    }\n",
       "\n",
       "    .dataframe tbody tr th {\n",
       "        vertical-align: top;\n",
       "    }\n",
       "\n",
       "    .dataframe thead th {\n",
       "        text-align: right;\n",
       "    }\n",
       "</style>\n",
       "<table border=\"1\" class=\"dataframe\">\n",
       "  <thead>\n",
       "    <tr style=\"text-align: right;\">\n",
       "      <th></th>\n",
       "      <th>High</th>\n",
       "      <th>Low</th>\n",
       "      <th>Open</th>\n",
       "      <th>Close</th>\n",
       "      <th>Volume</th>\n",
       "      <th>Adj Close</th>\n",
       "    </tr>\n",
       "    <tr>\n",
       "      <th>Date</th>\n",
       "      <th></th>\n",
       "      <th></th>\n",
       "      <th></th>\n",
       "      <th></th>\n",
       "      <th></th>\n",
       "      <th></th>\n",
       "    </tr>\n",
       "  </thead>\n",
       "  <tbody>\n",
       "    <tr>\n",
       "      <th>2017-01-01</th>\n",
       "      <td>38.450001</td>\n",
       "      <td>36.189999</td>\n",
       "      <td>36.610001</td>\n",
       "      <td>36.820000</td>\n",
       "      <td>456335100.0</td>\n",
       "      <td>31.593967</td>\n",
       "    </tr>\n",
       "    <tr>\n",
       "      <th>2017-02-01</th>\n",
       "      <td>36.950001</td>\n",
       "      <td>34.840000</td>\n",
       "      <td>36.820000</td>\n",
       "      <td>36.200001</td>\n",
       "      <td>477551300.0</td>\n",
       "      <td>31.061974</td>\n",
       "    </tr>\n",
       "    <tr>\n",
       "      <th>2017-03-01</th>\n",
       "      <td>36.299999</td>\n",
       "      <td>34.660000</td>\n",
       "      <td>35.849998</td>\n",
       "      <td>36.070000</td>\n",
       "      <td>546151800.0</td>\n",
       "      <td>31.171373</td>\n",
       "    </tr>\n",
       "    <tr>\n",
       "      <th>2017-04-01</th>\n",
       "      <td>37.500000</td>\n",
       "      <td>35.209999</td>\n",
       "      <td>36.189999</td>\n",
       "      <td>36.150002</td>\n",
       "      <td>444122200.0</td>\n",
       "      <td>31.240505</td>\n",
       "    </tr>\n",
       "    <tr>\n",
       "      <th>2017-05-01</th>\n",
       "      <td>37.169998</td>\n",
       "      <td>35.020000</td>\n",
       "      <td>36.110001</td>\n",
       "      <td>36.110001</td>\n",
       "      <td>432927300.0</td>\n",
       "      <td>31.205944</td>\n",
       "    </tr>\n",
       "  </tbody>\n",
       "</table>\n",
       "</div>"
      ],
      "text/plain": [
       "                 High        Low       Open      Close       Volume  Adj Close\n",
       "Date                                                                          \n",
       "2017-01-01  38.450001  36.189999  36.610001  36.820000  456335100.0  31.593967\n",
       "2017-02-01  36.950001  34.840000  36.820000  36.200001  477551300.0  31.061974\n",
       "2017-03-01  36.299999  34.660000  35.849998  36.070000  546151800.0  31.171373\n",
       "2017-04-01  37.500000  35.209999  36.189999  36.150002  444122200.0  31.240505\n",
       "2017-05-01  37.169998  35.020000  36.110001  36.110001  432927300.0  31.205944"
      ]
     },
     "execution_count": 2,
     "metadata": {},
     "output_type": "execute_result"
    }
   ],
   "source": [
    "import numpy as np\n",
    "import pandas as pd\n",
    "import pandas_datareader as pdr\n",
    "import matplotlib\n",
    "\n",
    "import matplotlib.pyplot as plt\n",
    "\n",
    "INTEL = pdr.get_data_yahoo('INTC', start=\"01/01/2017\", interval=\"m\")\n",
    "INTEL.head()"
   ]
  },
  {
   "cell_type": "code",
   "execution_count": 3,
   "metadata": {},
   "outputs": [
    {
     "data": {
      "text/html": [
       "<div>\n",
       "<style scoped>\n",
       "    .dataframe tbody tr th:only-of-type {\n",
       "        vertical-align: middle;\n",
       "    }\n",
       "\n",
       "    .dataframe tbody tr th {\n",
       "        vertical-align: top;\n",
       "    }\n",
       "\n",
       "    .dataframe thead th {\n",
       "        text-align: right;\n",
       "    }\n",
       "</style>\n",
       "<table border=\"1\" class=\"dataframe\">\n",
       "  <thead>\n",
       "    <tr style=\"text-align: right;\">\n",
       "      <th></th>\n",
       "      <th>High</th>\n",
       "      <th>Low</th>\n",
       "      <th>Open</th>\n",
       "      <th>Close</th>\n",
       "      <th>Volume</th>\n",
       "      <th>Adj Close</th>\n",
       "    </tr>\n",
       "    <tr>\n",
       "      <th>Date</th>\n",
       "      <th></th>\n",
       "      <th></th>\n",
       "      <th></th>\n",
       "      <th></th>\n",
       "      <th></th>\n",
       "      <th></th>\n",
       "    </tr>\n",
       "  </thead>\n",
       "  <tbody>\n",
       "    <tr>\n",
       "      <th>2017-01-01</th>\n",
       "      <td>11.69</td>\n",
       "      <td>9.42</td>\n",
       "      <td>11.42</td>\n",
       "      <td>10.37</td>\n",
       "      <td>878890400</td>\n",
       "      <td>10.37</td>\n",
       "    </tr>\n",
       "    <tr>\n",
       "      <th>2017-02-01</th>\n",
       "      <td>15.55</td>\n",
       "      <td>10.81</td>\n",
       "      <td>10.90</td>\n",
       "      <td>14.46</td>\n",
       "      <td>1571999700</td>\n",
       "      <td>14.46</td>\n",
       "    </tr>\n",
       "    <tr>\n",
       "      <th>2017-03-01</th>\n",
       "      <td>15.09</td>\n",
       "      <td>12.38</td>\n",
       "      <td>15.08</td>\n",
       "      <td>14.55</td>\n",
       "      <td>1733593200</td>\n",
       "      <td>14.55</td>\n",
       "    </tr>\n",
       "    <tr>\n",
       "      <th>2017-04-01</th>\n",
       "      <td>14.74</td>\n",
       "      <td>12.22</td>\n",
       "      <td>14.60</td>\n",
       "      <td>13.30</td>\n",
       "      <td>943383500</td>\n",
       "      <td>13.30</td>\n",
       "    </tr>\n",
       "    <tr>\n",
       "      <th>2017-05-01</th>\n",
       "      <td>13.63</td>\n",
       "      <td>9.85</td>\n",
       "      <td>13.43</td>\n",
       "      <td>11.19</td>\n",
       "      <td>1716437000</td>\n",
       "      <td>11.19</td>\n",
       "    </tr>\n",
       "  </tbody>\n",
       "</table>\n",
       "</div>"
      ],
      "text/plain": [
       "             High    Low   Open  Close      Volume  Adj Close\n",
       "Date                                                         \n",
       "2017-01-01  11.69   9.42  11.42  10.37   878890400      10.37\n",
       "2017-02-01  15.55  10.81  10.90  14.46  1571999700      14.46\n",
       "2017-03-01  15.09  12.38  15.08  14.55  1733593200      14.55\n",
       "2017-04-01  14.74  12.22  14.60  13.30   943383500      13.30\n",
       "2017-05-01  13.63   9.85  13.43  11.19  1716437000      11.19"
      ]
     },
     "execution_count": 3,
     "metadata": {},
     "output_type": "execute_result"
    }
   ],
   "source": [
    "AMD = pdr.get_data_yahoo('AMD', start=\"01/01/2017\", interval=\"m\")\n",
    "AMD.head()"
   ]
  },
  {
   "cell_type": "code",
   "execution_count": 14,
   "metadata": {},
   "outputs": [
    {
     "data": {
      "image/png": "[encoded data removed]",
      "text/plain": [
       "<Figure size 432x288 with 1 Axes>"
      ]
     },
     "metadata": {
      "needs_background": "light"
     },
     "output_type": "display_data"
    }
   ],
   "source": [
    "#H0: The Null Hypothesis mean(INTEL) > mean(AMD)\n",
    "INTEL['r'] = np.log(INTEL['Adj Close']) - np.log(INTEL['Adj Close'].shift(1))\n",
    "plt.hist(INTEL['r'], bins=10)\n",
    "plt.show()"
   ]
  },
  {
   "cell_type": "code",
   "execution_count": 13,
   "metadata": {},
   "outputs": [
    {
     "data": {
      "image/png": "[encoded data removed]",
      "text/plain": [
       "<Figure size 432x288 with 1 Axes>"
      ]
     },
     "metadata": {
      "needs_background": "light"
     },
     "output_type": "display_data"
    }
   ],
   "source": [
    "#Ha: The Alternative Hypothesis mean(INTEL) < mean(AMD)\n",
    "AMD['r'] = np.log(AMD['Adj Close']) - np.log(AMD['Adj Close'].shift(1))\n",
    "plt.hist(AMD['r'], bins=10)\n",
    "plt.show()"
   ]
  },
  {
   "cell_type": "code",
   "execution_count": 6,
   "metadata": {},
   "outputs": [
    {
     "name": "stdout",
     "output_type": "stream",
     "text": [
      "MEAN - Intel: 0.0019932395573901826, AMD: 0.033437135141487134\n",
      "STD - Intel: 0.07450912343348898, AMD: 0.16089199137202237\n"
     ]
    }
   ],
   "source": [
    "intel_mean = INTEL['r'].mean()\n",
    "intel_std = INTEL['r'].std()\n",
    "\n",
    "amd_mean = AMD['r'].mean()\n",
    "amd_std = AMD['r'].std()\n",
    "\n",
    "print(f\"MEAN - Intel: {intel_mean}, AMD: {amd_mean}\")\n",
    "print(f\"STD - Intel: {intel_std}, AMD: {amd_std}\")"
   ]
  },
  {
   "cell_type": "code",
   "execution_count": 8,
   "metadata": {},
   "outputs": [
    {
     "data": {
      "text/plain": [
       "-0.03144389558409695"
      ]
     },
     "execution_count": 8,
     "metadata": {},
     "output_type": "execute_result"
    }
   ],
   "source": [
    "dif = intel_mean - amd_mean\n",
    "dif"
   ]
  },
  {
   "cell_type": "code",
   "execution_count": 23,
   "metadata": {},
   "outputs": [
    {
     "data": {
      "text/plain": [
       "-1.4731077856067223"
      ]
     },
     "execution_count": 23,
     "metadata": {},
     "output_type": "execute_result"
    }
   ],
   "source": [
    "# t-statistic\n",
    "t = (dif - 0) / np.sqrt(1/(len(INTEL['r'])) * (intel_std**2 + amd_std**2))\n",
    "t"
   ]
  },
  {
   "cell_type": "markdown",
   "metadata": {},
   "source": [
    "PODEMOS OBSEVAR QUE LA HIPOTÉSIS ALTERNATIVA ES LA CORRECTA, YA QUE EL PROMEDIO DE SALIDA DE AMD ES MAYOR AL QUE OBSERVAMOS EN INTEL. SIN EMBARGO, NO PODEMOS DECIR CON SEGURIDAD QUE ESTO OCURRA, YA QUE NUESTRO INTERVALO DE CONFIANZA ES MENOR AL 95%"
   ]
  },
  {
   "cell_type": "markdown",
   "metadata": {},
   "source": [
    "## __CHALLENGE - IS AMD MEAN RETURN HIGHER THAN INTEL MEAN RETURN?__"
   ]
  },
  {
   "cell_type": "markdown",
   "metadata": {},
   "source": [
    "Do a t-test to check whether the mean monthly cc return of AMD (AMD) is greater than the mean monthly return of Intel. Use data from Jan 2017 to date."
   ]
  },
  {
   "cell_type": "code",
   "execution_count": 2,
   "metadata": {},
   "outputs": [],
   "source": [
    "import pandas_datareader as pdr\n",
    "import pandas as pd\n",
    "import numpy as np\n",
    "\n",
    "# Getting price data and selecting adjusted price columns:\n",
    "sprices = pdr.get_data_yahoo(['AMD','INTC'],start=\"01/01/2017\", end=\"08/15/2022\",interval=\"m\")\n",
    "sprices=sprices['Adj Close']\n",
    "\n",
    "# Calculating returns:\n",
    "sr = np.log(sprices) - np.log(sprices.shift(1))\n",
    "# Deleting the first month with NAs:\n",
    "sr=sr.dropna()"
   ]
  },
  {
   "cell_type": "code",
   "execution_count": 3,
   "metadata": {},
   "outputs": [
    {
     "data": {
      "text/plain": [
       "1.465749724512347"
      ]
     },
     "execution_count": 3,
     "metadata": {},
     "output_type": "execute_result"
    }
   ],
   "source": [
    "# Stating the hypotheses: \n",
    "# H0: (mean(rAMD) - mean(rINTEL)) = 0\n",
    "# Ha: (mean(rAMD) - mean(rINTEL)) <> 0\n",
    "\n",
    "# Calculating the standard error of the difference of the means:\n",
    "N = sr['AMD'].count()\n",
    "amdvar = sr['AMD'].var()\n",
    "intelvar = sr['INTC'].var()\n",
    "sediff = np.sqrt((1/N) * (amdvar + intelvar ) )\n",
    "\n",
    "# Calculating the t-Statistic:\n",
    "t = (sr['AMD'].mean() - sr['INTC'].mean()) / sediff\n",
    "t"
   ]
  },
  {
   "cell_type": "code",
   "execution_count": 4,
   "metadata": {},
   "outputs": [
    {
     "data": {
      "text/plain": [
       "0.14608662976489994"
      ]
     },
     "execution_count": 4,
     "metadata": {},
     "output_type": "execute_result"
    }
   ],
   "source": [
    "# Calculating the pvalue from the t-Statistic:\n",
    "from scipy import stats as st\n",
    "# The st.t.sf function calculates the 1-tailed pvalue, so we multiply it by 2 to get the 2-tailed pvalue\n",
    "# the degrees of freedom for 2-independent-means t-test is calculated with the following formula:\n",
    "df = ( ((N-1) / N**2) * (amdvar + intelvar)**2  / ( (amdvar/N)**2 + (intelvar/N)**2  ) )\n",
    "# Now we calculate the pvalue with the t and df:\n",
    "pvalue = 2 * st.t.sf(np.abs(t), df)\n",
    "pvalue"
   ]
  },
  {
   "cell_type": "code",
   "execution_count": 5,
   "metadata": {},
   "outputs": [
    {
     "data": {
      "text/plain": [
       "Ttest_indResult(statistic=1.465749724512347, pvalue=0.14608662976489994)"
      ]
     },
     "execution_count": 5,
     "metadata": {},
     "output_type": "execute_result"
    }
   ],
   "source": [
    "# Using the ttest_ind function from stats:\n",
    "st.ttest_ind(sr['AMD'],sr['INTC'],equal_var=False)\n",
    "# We got the same result as above!\n",
    "# With this function we avoid calculating all steps of the hypothesis test!"
   ]
  },
  {
   "cell_type": "code",
   "execution_count": 7,
   "metadata": {},
   "outputs": [
    {
     "name": "stderr",
     "output_type": "stream",
     "text": [
      "c:\\Users\\Oscar\\anaconda3\\envs\\DL\\lib\\site-packages\\researchpy\\ttest.py:18: FutureWarning: The series.append method is deprecated and will be removed from pandas in a future version. Use pandas.concat instead.\n",
      "  groups = group1.append(group2, ignore_index= True)\n"
     ]
    },
    {
     "data": {
      "text/plain": [
       "(   Variable      N      Mean        SD        SE  95% Conf.  Interval\n",
       " 0       AMD   67.0  0.033854  0.162034  0.019796  -0.005669  0.073378\n",
       " 1      INTC   67.0  0.001877  0.075058  0.009170  -0.016431  0.020185\n",
       " 2  combined  134.0  0.017866  0.126815  0.010955  -0.003803  0.039535,\n",
       "                Welch's t-test  results\n",
       " 0  Difference (AMD - INTC) =    0.0320\n",
       " 1       Degrees of freedom =   93.8981\n",
       " 2                        t =    1.4657\n",
       " 3    Two side test p value =    0.1461\n",
       " 4   Difference < 0 p value =    0.9270\n",
       " 5   Difference > 0 p value =    0.0730\n",
       " 6                Cohen's d =    0.2532\n",
       " 7                Hedge's g =    0.2518\n",
       " 8            Glass's delta =    0.1973\n",
       " 9              Pearson's r =    0.1496)"
      ]
     },
     "execution_count": 7,
     "metadata": {},
     "output_type": "execute_result"
    }
   ],
   "source": [
    "import researchpy as rp\n",
    "# Using the ttest function from researchpy:\n",
    "rp.ttest(sr['AMD'],sr['INTC'],equal_variances=False)\n",
    "# We got the same result as above!\n",
    "# With this function we avoid calculating all steps of the hypothesis test!"
   ]
  },
  {
   "cell_type": "markdown",
   "metadata": {},
   "source": [
    "## __Measures of linear relationship__"
   ]
  },
  {
   "cell_type": "markdown",
   "metadata": {},
   "source": [
    "Let’s start with an example. Imagine we want to see whether there is a relationship between the OIL price and the Microsoft stock price. The S&P500 is an index that represents the 500 bigest US companies, which is a good representation of the US financial market. We will use monthly data for the last 3-4 years.\n",
    "\n",
    "Let’s download the data and do the corresponding return calculation. Instead of pandas, we will use yfinance to download online data from Yahoo Finance."
   ]
  },
  {
   "cell_type": "code",
   "execution_count": 9,
   "metadata": {},
   "outputs": [
    {
     "name": "stdout",
     "output_type": "stream",
     "text": [
      "[*********************100%***********************]  2 of 2 completed\n"
     ]
    }
   ],
   "source": [
    "import numpy as np\n",
    "import pandas as pd\n",
    "import pandas_datareader as pdr\n",
    "import yfinance as yf\n",
    "import matplotlib\n",
    "import matplotlib.pyplot as plt\n",
    "\n",
    "# We download price data for Microsoft and the S&P500 index:\n",
    "prices=yf.download(tickers=\"MSFT ^GSPC\", start=\"2019-01-01\",interval=\"1mo\")\n",
    "# We select Adjusted closing prices and drop any row with NA values:\n",
    "adjprices = prices['Adj Close'].dropna()"
   ]
  },
  {
   "cell_type": "markdown",
   "metadata": {},
   "source": [
    "Unfortunately, the range of stock prices and market indexes can vary a lot, so this makes difficult to compare price movements in one plot. For example, if we plot the MSFT prices and the S&P500:"
   ]
  },
  {
   "cell_type": "code",
   "execution_count": 10,
   "metadata": {},
   "outputs": [
    {
     "data": {
      "text/plain": [
       "<Figure size 432x288 with 0 Axes>"
      ]
     },
     "metadata": {},
     "output_type": "display_data"
    },
    {
     "data": {
      "image/png": "[encoded data removed]",
      "text/plain": [
       "<Figure size 432x288 with 1 Axes>"
      ]
     },
     "metadata": {
      "needs_background": "light"
     },
     "output_type": "display_data"
    }
   ],
   "source": [
    "plt.clf()\n",
    "adjprices.plot(y=['MSFT','^GSPC'])\n",
    "plt.show()"
   ]
  },
  {
   "cell_type": "markdown",
   "metadata": {},
   "source": [
    "It looks like the GSPC has had a better performance, but this is misleading since both investment have different range of prices.\n",
    "\n",
    "When comparing the performance of 2 or more stock prices and/or indexes, it is a good idea to generate an index for each series, so that we can emulate how much $1.00 invested in each stock/index would have moved over time. We can divide the stock price of any month by the stock price of the first month to get a growth factor:"
   ]
  },
  {
   "cell_type": "code",
   "execution_count": 11,
   "metadata": {},
   "outputs": [],
   "source": [
    "adjprices['iMSFT'] = adjprices['MSFT'] / adjprices['MSFT'][0]\n",
    "adjprices['iGSPC'] = adjprices['^GSPC'] / adjprices['^GSPC'][0]"
   ]
  },
  {
   "cell_type": "markdown",
   "metadata": {},
   "source": [
    "Now we can plot these 2 new indexes over time and see which investment was better:"
   ]
  },
  {
   "cell_type": "code",
   "execution_count": 12,
   "metadata": {},
   "outputs": [
    {
     "data": {
      "text/plain": [
       "<Figure size 432x288 with 0 Axes>"
      ]
     },
     "metadata": {},
     "output_type": "display_data"
    },
    {
     "data": {
      "image/png": "[encoded data removed]",
      "text/plain": [
       "<Figure size 432x288 with 1 Axes>"
      ]
     },
     "metadata": {
      "needs_background": "light"
     },
     "output_type": "display_data"
    }
   ],
   "source": [
    "plt.clf()\n",
    "adjprices.plot(y=['iMSFT','iGSPC'])\n",
    "plt.show()"
   ]
  },
  {
   "cell_type": "markdown",
   "metadata": {},
   "source": [
    "Now we calculate continuously compounded monthly returns. With pandas most of the data management functions works row-wise. In other words, operations are performed to all columns by row:"
   ]
  },
  {
   "cell_type": "code",
   "execution_count": 13,
   "metadata": {},
   "outputs": [],
   "source": [
    "r = np.log(adjprices) - np.log(adjprices.shift(1))\n",
    "# Dropping rows with NA values (the first month will have NAs)\n",
    "r = r.dropna()\n",
    "# Selecting only 2 columns (out of the 4 columns):\n",
    "r = r[['MSFT','^GSPC']]\n",
    "# Renameing the column names:\n",
    "r.columns = ['MSFT','GSPC']"
   ]
  },
  {
   "cell_type": "markdown",
   "metadata": {},
   "source": [
    "Now r dataframe will have 2 columns for both cc historical returns:"
   ]
  },
  {
   "cell_type": "code",
   "execution_count": 14,
   "metadata": {},
   "outputs": [
    {
     "data": {
      "text/html": [
       "<div>\n",
       "<style scoped>\n",
       "    .dataframe tbody tr th:only-of-type {\n",
       "        vertical-align: middle;\n",
       "    }\n",
       "\n",
       "    .dataframe tbody tr th {\n",
       "        vertical-align: top;\n",
       "    }\n",
       "\n",
       "    .dataframe thead th {\n",
       "        text-align: right;\n",
       "    }\n",
       "</style>\n",
       "<table border=\"1\" class=\"dataframe\">\n",
       "  <thead>\n",
       "    <tr style=\"text-align: right;\">\n",
       "      <th></th>\n",
       "      <th>MSFT</th>\n",
       "      <th>GSPC</th>\n",
       "    </tr>\n",
       "    <tr>\n",
       "      <th>Date</th>\n",
       "      <th></th>\n",
       "      <th></th>\n",
       "    </tr>\n",
       "  </thead>\n",
       "  <tbody>\n",
       "    <tr>\n",
       "      <th>2019-02-01</th>\n",
       "      <td>0.070250</td>\n",
       "      <td>0.029296</td>\n",
       "    </tr>\n",
       "    <tr>\n",
       "      <th>2019-03-01</th>\n",
       "      <td>0.055671</td>\n",
       "      <td>0.017766</td>\n",
       "    </tr>\n",
       "    <tr>\n",
       "      <th>2019-04-01</th>\n",
       "      <td>0.101963</td>\n",
       "      <td>0.038560</td>\n",
       "    </tr>\n",
       "    <tr>\n",
       "      <th>2019-05-01</th>\n",
       "      <td>-0.054442</td>\n",
       "      <td>-0.068041</td>\n",
       "    </tr>\n",
       "    <tr>\n",
       "      <th>2019-06-01</th>\n",
       "      <td>0.083538</td>\n",
       "      <td>0.066658</td>\n",
       "    </tr>\n",
       "  </tbody>\n",
       "</table>\n",
       "</div>"
      ],
      "text/plain": [
       "                MSFT      GSPC\n",
       "Date                          \n",
       "2019-02-01  0.070250  0.029296\n",
       "2019-03-01  0.055671  0.017766\n",
       "2019-04-01  0.101963  0.038560\n",
       "2019-05-01 -0.054442 -0.068041\n",
       "2019-06-01  0.083538  0.066658"
      ]
     },
     "execution_count": 14,
     "metadata": {},
     "output_type": "execute_result"
    }
   ],
   "source": [
    "r.head()"
   ]
  },
  {
   "cell_type": "markdown",
   "metadata": {},
   "source": [
    "To learn about the possible relationship between the GSPC and MSFT we can look at their prices and also we can look at their returns.\n",
    "\n",
    "We start with a scatter plot to see whether there is a linear relationship between the MSFT prices and the GSPC index:"
   ]
  },
  {
   "cell_type": "code",
   "execution_count": 15,
   "metadata": {},
   "outputs": [
    {
     "data": {
      "text/plain": [
       "<Figure size 432x288 with 0 Axes>"
      ]
     },
     "metadata": {},
     "output_type": "display_data"
    },
    {
     "data": {
      "image/png": "[encoded data removed]",
      "text/plain": [
       "<Figure size 432x288 with 1 Axes>"
      ]
     },
     "metadata": {
      "needs_background": "light"
     },
     "output_type": "display_data"
    }
   ],
   "source": [
    "plt.clf()\n",
    "r.plot.scatter(x='GSPC', y='MSFT',c='DarkBlue')\n",
    "plt.show()"
   ]
  },
  {
   "cell_type": "markdown",
   "metadata": {},
   "source": [
    "What do you see?\n",
    "\n",
    "We can also do a scatter plot to visualize the relationship between the MSFT returns and GSPC returns:"
   ]
  },
  {
   "cell_type": "code",
   "execution_count": 16,
   "metadata": {},
   "outputs": [
    {
     "data": {
      "text/plain": [
       "<Figure size 432x288 with 0 Axes>"
      ]
     },
     "metadata": {},
     "output_type": "display_data"
    },
    {
     "data": {
      "image/png": "[encoded data removed]",
      "text/plain": [
       "<Figure size 432x288 with 1 Axes>"
      ]
     },
     "metadata": {
      "needs_background": "light"
     },
     "output_type": "display_data"
    }
   ],
   "source": [
    "plt.clf()\n",
    "adjprices.plot.scatter(x='^GSPC', y='MSFT',c='DarkBlue')\n",
    "plt.show()"
   ]
  },
  {
   "cell_type": "code",
   "execution_count": 19,
   "metadata": {},
   "outputs": [
    {
     "data": {
      "text/plain": [
       "0.7918571169535208"
      ]
     },
     "execution_count": 19,
     "metadata": {},
     "output_type": "execute_result"
    }
   ],
   "source": [
    "corr = np.corrcoef(r['MSFT'],r['GSPC'])\n",
    "corr\n",
    "corr[[0]]\n",
    "corr[0][1]"
   ]
  },
  {
   "cell_type": "markdown",
   "metadata": {},
   "source": [
    "What do you see? Which plot conveys a stronger linear relationship?\n",
    "\n",
    "The scatter plot using the prices conveys an apparent stronger linear relationship compared to the scatter plot using returns.\n",
    "\n",
    "Stock returns are variables that usually does NOT grow over time; they look like a plot of heart bits:"
   ]
  },
  {
   "cell_type": "code",
   "execution_count": 20,
   "metadata": {},
   "outputs": [
    {
     "data": {
      "text/plain": [
       "<Figure size 432x288 with 0 Axes>"
      ]
     },
     "metadata": {},
     "output_type": "display_data"
    },
    {
     "data": {
      "image/png": "[encoded data removed]",
      "text/plain": [
       "<Figure size 432x288 with 1 Axes>"
      ]
     },
     "metadata": {
      "needs_background": "light"
     },
     "output_type": "display_data"
    }
   ],
   "source": [
    "plt.clf()\n",
    "r.plot(y=['MSFT','GSPC'])\n",
    "plt.show()"
   ]
  },
  {
   "cell_type": "markdown",
   "metadata": {},
   "source": [
    "### __Calculating covariance and correlation__"
   ]
  },
  {
   "cell_type": "markdown",
   "metadata": {},
   "source": [
    "We can program the covariance of 2 variables according to the formula:"
   ]
  },
  {
   "cell_type": "code",
   "execution_count": 22,
   "metadata": {},
   "outputs": [
    {
     "data": {
      "text/plain": [
       "0.0025220798103052855"
      ]
     },
     "execution_count": 22,
     "metadata": {},
     "output_type": "execute_result"
    }
   ],
   "source": [
    "msft_mean = r['MSFT'].mean()\n",
    "gspc_mean = r['GSPC'].mean()\n",
    "N = r['GSPC'].count()\n",
    "sum_of_prod = ((r['MSFT'] - msft_mean) * (r['GSPC'] - gspc_mean) ).sum()  \n",
    "cov = sum_of_prod / (N-1)\n",
    "cov"
   ]
  },
  {
   "cell_type": "markdown",
   "metadata": {},
   "source": [
    "Fortunately, we have the numpy function cov to calculate the covariance:"
   ]
  },
  {
   "cell_type": "code",
   "execution_count": 23,
   "metadata": {},
   "outputs": [
    {
     "data": {
      "text/plain": [
       "array([[0.00355253, 0.00252208],\n",
       "       [0.00252208, 0.00285553]])"
      ]
     },
     "execution_count": 23,
     "metadata": {},
     "output_type": "execute_result"
    }
   ],
   "source": [
    "covm = np.cov(r['MSFT'],r['GSPC'])\n",
    "covm"
   ]
  },
  {
   "cell_type": "markdown",
   "metadata": {},
   "source": [
    "The cov function calculates the covariance matrix using both returns. We can find the covariance in the non-diagonal elements, which will be the same values since the covariance matrix is symetric.\n",
    "\n",
    "The diagonal values have the variances of each return since the covariance of one variable with itself is actually its variance (Cov(X,X) = Var(X) ) .\n",
    "\n",
    "Then, to extract the covariance between MSFT and GSPC returns we can extract the element in the row 1 and column 2 of the matrix:"
   ]
  },
  {
   "cell_type": "code",
   "execution_count": 24,
   "metadata": {},
   "outputs": [
    {
     "data": {
      "text/plain": [
       "0.002522079810305285"
      ]
     },
     "execution_count": 24,
     "metadata": {},
     "output_type": "execute_result"
    }
   ],
   "source": [
    "cov = covm[0,1]\n",
    "cov"
   ]
  },
  {
   "cell_type": "markdown",
   "metadata": {},
   "source": [
    "This value is exactly the same we calculated manually.\n",
    "\n",
    "We can use the corrcoef function of numpy to calculate the correlation matrix:"
   ]
  },
  {
   "cell_type": "code",
   "execution_count": 25,
   "metadata": {},
   "outputs": [
    {
     "data": {
      "text/plain": [
       "array([[1.        , 0.79185712],\n",
       "       [0.79185712, 1.        ]])"
      ]
     },
     "execution_count": 25,
     "metadata": {},
     "output_type": "execute_result"
    }
   ],
   "source": [
    "corr = np.corrcoef(r['MSFT'],r['GSPC'])\n",
    "corr"
   ]
  },
  {
   "cell_type": "markdown",
   "metadata": {},
   "source": [
    "The correlation matrix will have +1 in its diagonal since the correlation of one variable with itself is +1. The non-diagonal value will be the actual correlation between the corresponding 2 variables (the one in the row, and the one in the column).\n",
    "\n",
    "We could also manually calculate correlation using the previous covariance:"
   ]
  },
  {
   "cell_type": "code",
   "execution_count": 26,
   "metadata": {},
   "outputs": [
    {
     "data": {
      "text/plain": [
       "0.7918571169535207"
      ]
     },
     "execution_count": 26,
     "metadata": {},
     "output_type": "execute_result"
    }
   ],
   "source": [
    "corr2 = cov / (r['MSFT'].std() * r['GSPC'].std())\n",
    "corr2"
   ]
  },
  {
   "cell_type": "markdown",
   "metadata": {},
   "source": [
    "We can use the scipy pearsonr function to calculate correlation and also the 2-tailed pvalue to see whether the correlation is statistically different than zero:"
   ]
  },
  {
   "cell_type": "code",
   "execution_count": 27,
   "metadata": {},
   "outputs": [
    {
     "data": {
      "text/plain": [
       "(0.7918571169535209, 2.55601138733808e-10)"
      ]
     },
     "execution_count": 27,
     "metadata": {},
     "output_type": "execute_result"
    }
   ],
   "source": [
    "from scipy.stats import pearsonr\n",
    "corr2 = pearsonr(r['MSFT'],r['GSPC'])\n",
    "corr2"
   ]
  },
  {
   "cell_type": "markdown",
   "metadata": {},
   "source": [
    "The pvalue is almost zero (2.4e-10) . MSFT and GSPC returns have a positive and very significant correlation (at the 99.9999…% confidence level)."
   ]
  },
  {
   "cell_type": "code",
   "execution_count": null,
   "metadata": {},
   "outputs": [],
   "source": []
  }
 ],
 "metadata": {
  "kernelspec": {
   "display_name": "Python 3.9.12 ('DL')",
   "language": "python",
   "name": "python3"
  },
  "language_info": {
   "codemirror_mode": {
    "name": "ipython",
    "version": 3
   },
   "file_extension": ".py",
   "mimetype": "text/x-python",
   "name": "python",
   "nbconvert_exporter": "python",
   "pygments_lexer": "ipython3",
   "version": "3.9.12"
  },
  "orig_nbformat": 4,
  "vscode": {
   "interpreter": {
    "hash": "e0097eb9e75fd1fba237717d3fa82328c135583c8e3c8e971996dd6e8be60a1e"
   }
  }
 },
 "nbformat": 4,
 "nbformat_minor": 2
}
