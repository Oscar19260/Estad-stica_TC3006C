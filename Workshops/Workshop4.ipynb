{
 "cells": [
  {
   "cell_type": "markdown",
   "metadata": {},
   "source": [
    "# __Workshop 4, Advanced AI - Statistics Module__"
   ]
  },
  {
   "cell_type": "markdown",
   "metadata": {},
   "source": [
    "## __CHALLENGE: Run and interpret a market regression model__"
   ]
  },
  {
   "cell_type": "markdown",
   "metadata": {},
   "source": [
    "Now it’s time to use real data to better understand this model. Download monthly prices for Alfa (ALFAA.MX) and the Mexican market index IPCyC (^MXX) from Yahoo Finance from January 2018 to July 2022.\n",
    "\n",
    "You have to do the following:"
   ]
  },
  {
   "cell_type": "code",
   "execution_count": 1,
   "metadata": {},
   "outputs": [
    {
     "data": {
      "text/html": [
       "<div>\n",
       "<style scoped>\n",
       "    .dataframe tbody tr th:only-of-type {\n",
       "        vertical-align: middle;\n",
       "    }\n",
       "\n",
       "    .dataframe tbody tr th {\n",
       "        vertical-align: top;\n",
       "    }\n",
       "\n",
       "    .dataframe thead tr th {\n",
       "        text-align: left;\n",
       "    }\n",
       "\n",
       "    .dataframe thead tr:last-of-type th {\n",
       "        text-align: right;\n",
       "    }\n",
       "</style>\n",
       "<table border=\"1\" class=\"dataframe\">\n",
       "  <thead>\n",
       "    <tr>\n",
       "      <th>Attributes</th>\n",
       "      <th colspan=\"2\" halign=\"left\">Adj Close</th>\n",
       "      <th colspan=\"2\" halign=\"left\">Close</th>\n",
       "      <th colspan=\"2\" halign=\"left\">High</th>\n",
       "      <th colspan=\"2\" halign=\"left\">Low</th>\n",
       "      <th colspan=\"2\" halign=\"left\">Open</th>\n",
       "      <th colspan=\"2\" halign=\"left\">Volume</th>\n",
       "    </tr>\n",
       "    <tr>\n",
       "      <th>Symbols</th>\n",
       "      <th>ALFAA.MX</th>\n",
       "      <th>^MXX</th>\n",
       "      <th>ALFAA.MX</th>\n",
       "      <th>^MXX</th>\n",
       "      <th>ALFAA.MX</th>\n",
       "      <th>^MXX</th>\n",
       "      <th>ALFAA.MX</th>\n",
       "      <th>^MXX</th>\n",
       "      <th>ALFAA.MX</th>\n",
       "      <th>^MXX</th>\n",
       "      <th>ALFAA.MX</th>\n",
       "      <th>^MXX</th>\n",
       "    </tr>\n",
       "    <tr>\n",
       "      <th>Date</th>\n",
       "      <th></th>\n",
       "      <th></th>\n",
       "      <th></th>\n",
       "      <th></th>\n",
       "      <th></th>\n",
       "      <th></th>\n",
       "      <th></th>\n",
       "      <th></th>\n",
       "      <th></th>\n",
       "      <th></th>\n",
       "      <th></th>\n",
       "      <th></th>\n",
       "    </tr>\n",
       "  </thead>\n",
       "  <tbody>\n",
       "    <tr>\n",
       "      <th>2017-01-01</th>\n",
       "      <td>26.765945</td>\n",
       "      <td>47001.058594</td>\n",
       "      <td>27.059999</td>\n",
       "      <td>47001.058594</td>\n",
       "      <td>27.930000</td>\n",
       "      <td>48632.511719</td>\n",
       "      <td>24.559999</td>\n",
       "      <td>45314.578125</td>\n",
       "      <td>25.700001</td>\n",
       "      <td>45642.800781</td>\n",
       "      <td>139872067.0</td>\n",
       "      <td>3.957118e+09</td>\n",
       "    </tr>\n",
       "    <tr>\n",
       "      <th>2017-02-01</th>\n",
       "      <td>25.410831</td>\n",
       "      <td>46856.789062</td>\n",
       "      <td>25.690001</td>\n",
       "      <td>46856.789062</td>\n",
       "      <td>27.459999</td>\n",
       "      <td>48115.980469</td>\n",
       "      <td>24.799999</td>\n",
       "      <td>46587.929688</td>\n",
       "      <td>27.459999</td>\n",
       "      <td>47001.968750</td>\n",
       "      <td>184488776.0</td>\n",
       "      <td>3.659561e+09</td>\n",
       "    </tr>\n",
       "    <tr>\n",
       "      <th>2017-03-01</th>\n",
       "      <td>27.102251</td>\n",
       "      <td>48541.558594</td>\n",
       "      <td>27.400000</td>\n",
       "      <td>48541.558594</td>\n",
       "      <td>28.600000</td>\n",
       "      <td>49523.941406</td>\n",
       "      <td>25.520000</td>\n",
       "      <td>46597.578125</td>\n",
       "      <td>25.680000</td>\n",
       "      <td>46853.671875</td>\n",
       "      <td>202325523.0</td>\n",
       "      <td>4.039193e+09</td>\n",
       "    </tr>\n",
       "    <tr>\n",
       "      <th>2017-04-01</th>\n",
       "      <td>25.621073</td>\n",
       "      <td>49261.328125</td>\n",
       "      <td>25.870001</td>\n",
       "      <td>49261.328125</td>\n",
       "      <td>27.840000</td>\n",
       "      <td>50147.039062</td>\n",
       "      <td>24.410000</td>\n",
       "      <td>48335.980469</td>\n",
       "      <td>27.260000</td>\n",
       "      <td>48549.230469</td>\n",
       "      <td>108813980.0</td>\n",
       "      <td>2.720546e+09</td>\n",
       "    </tr>\n",
       "    <tr>\n",
       "      <th>2017-05-01</th>\n",
       "      <td>26.660969</td>\n",
       "      <td>48788.441406</td>\n",
       "      <td>26.920000</td>\n",
       "      <td>48788.441406</td>\n",
       "      <td>28.000000</td>\n",
       "      <td>50154.328125</td>\n",
       "      <td>25.200001</td>\n",
       "      <td>48146.000000</td>\n",
       "      <td>25.870001</td>\n",
       "      <td>49260.121094</td>\n",
       "      <td>225130578.0</td>\n",
       "      <td>3.589383e+09</td>\n",
       "    </tr>\n",
       "  </tbody>\n",
       "</table>\n",
       "</div>"
      ],
      "text/plain": [
       "Attributes  Adj Close                    Close                     High  \\\n",
       "Symbols      ALFAA.MX          ^MXX   ALFAA.MX          ^MXX   ALFAA.MX   \n",
       "Date                                                                      \n",
       "2017-01-01  26.765945  47001.058594  27.059999  47001.058594  27.930000   \n",
       "2017-02-01  25.410831  46856.789062  25.690001  46856.789062  27.459999   \n",
       "2017-03-01  27.102251  48541.558594  27.400000  48541.558594  28.600000   \n",
       "2017-04-01  25.621073  49261.328125  25.870001  49261.328125  27.840000   \n",
       "2017-05-01  26.660969  48788.441406  26.920000  48788.441406  28.000000   \n",
       "\n",
       "Attributes                      Low                     Open                \\\n",
       "Symbols             ^MXX   ALFAA.MX          ^MXX   ALFAA.MX          ^MXX   \n",
       "Date                                                                         \n",
       "2017-01-01  48632.511719  24.559999  45314.578125  25.700001  45642.800781   \n",
       "2017-02-01  48115.980469  24.799999  46587.929688  27.459999  47001.968750   \n",
       "2017-03-01  49523.941406  25.520000  46597.578125  25.680000  46853.671875   \n",
       "2017-04-01  50147.039062  24.410000  48335.980469  27.260000  48549.230469   \n",
       "2017-05-01  50154.328125  25.200001  48146.000000  25.870001  49260.121094   \n",
       "\n",
       "Attributes       Volume                \n",
       "Symbols        ALFAA.MX          ^MXX  \n",
       "Date                                   \n",
       "2017-01-01  139872067.0  3.957118e+09  \n",
       "2017-02-01  184488776.0  3.659561e+09  \n",
       "2017-03-01  202325523.0  4.039193e+09  \n",
       "2017-04-01  108813980.0  2.720546e+09  \n",
       "2017-05-01  225130578.0  3.589383e+09  "
      ]
     },
     "execution_count": 1,
     "metadata": {},
     "output_type": "execute_result"
    }
   ],
   "source": [
    "import numpy as np\n",
    "import pandas as pd\n",
    "import pandas_datareader as pdr\n",
    "import matplotlib\n",
    "\n",
    "import matplotlib.pyplot as plt\n",
    "\n",
    "ALFA = pdr.get_data_yahoo(['ALFAA.MX', '^MXX'], start=\"01/01/2017\", interval=\"m\")\n",
    "ALFA.head()"
   ]
  },
  {
   "cell_type": "markdown",
   "metadata": {},
   "source": [
    "- Calculate cc returns of both stocks and drop NA values"
   ]
  },
  {
   "cell_type": "code",
   "execution_count": 2,
   "metadata": {},
   "outputs": [],
   "source": [
    "prices = ALFA['Adj Close']\n",
    "\n",
    "r = np.log(prices) - np.log(prices.shift(1))\n",
    "r = r.dropna()\n",
    "r.columns = ['ALFAA.MX', '^MXX']"
   ]
  },
  {
   "cell_type": "markdown",
   "metadata": {},
   "source": [
    "- Do a scatter plot including the regression line and interpret the plot"
   ]
  },
  {
   "cell_type": "code",
   "execution_count": 3,
   "metadata": {},
   "outputs": [
    {
     "data": {
      "text/plain": [
       "Text(0, 0.5, 'ALFA returns')"
      ]
     },
     "execution_count": 3,
     "metadata": {},
     "output_type": "execute_result"
    },
    {
     "data": {
      "image/png": "[encoded data removed]",
      "text/plain": [
       "<Figure size 432x288 with 1 Axes>"
      ]
     },
     "metadata": {
      "needs_background": "light"
     },
     "output_type": "display_data"
    }
   ],
   "source": [
    "x =  r['^MXX']\n",
    "y = r['ALFAA.MX']\n",
    "plt.scatter(y, x)\n",
    "\n",
    "b1, b0 = np.polyfit(x, y, 1)\n",
    "yfit = b0 + b1*x\n",
    "\n",
    "plt.plot(yfit, x, c='r')\n",
    "\n",
    "plt.xlabel('Market returns')\n",
    "plt.ylabel('ALFA returns')"
   ]
  },
  {
   "cell_type": "markdown",
   "metadata": {},
   "source": [
    "- Run the market regression model (the Y=stock return, the X=market return). You can use the function OLS from the statsmodels.api library."
   ]
  },
  {
   "cell_type": "code",
   "execution_count": 4,
   "metadata": {},
   "outputs": [
    {
     "name": "stdout",
     "output_type": "stream",
     "text": [
      "                            OLS Regression Results                            \n",
      "==============================================================================\n",
      "Dep. Variable:               ALFAA.MX   R-squared:                       0.343\n",
      "Model:                            OLS   Adj. R-squared:                  0.333\n",
      "Method:                 Least Squares   F-statistic:                     34.41\n",
      "Date:                Sun, 21 Aug 2022   Prob (F-statistic):           1.58e-07\n",
      "Time:                        19:40:08   Log-Likelihood:                 59.457\n",
      "No. Observations:                  68   AIC:                            -114.9\n",
      "Df Residuals:                      66   BIC:                            -110.5\n",
      "Df Model:                           1                                         \n",
      "Covariance Type:            nonrobust                                         \n",
      "==============================================================================\n",
      "                 coef    std err          t      P>|t|      [0.025      0.975]\n",
      "------------------------------------------------------------------------------\n",
      "const         -0.0101      0.012     -0.816      0.417      -0.035       0.015\n",
      "^MXX           1.5176      0.259      5.866      0.000       1.001       2.034\n",
      "==============================================================================\n",
      "Omnibus:                       12.462   Durbin-Watson:                   2.231\n",
      "Prob(Omnibus):                  0.002   Jarque-Bera (JB):               42.389\n",
      "Skew:                          -0.094   Prob(JB):                     6.24e-10\n",
      "Kurtosis:                       6.863   Cond. No.                         20.8\n",
      "==============================================================================\n",
      "\n",
      "Notes:\n",
      "[1] Standard Errors assume that the covariance matrix of the errors is correctly specified.\n"
     ]
    }
   ],
   "source": [
    "import numpy as np\n",
    "import statsmodels.api as sm\n",
    "import statsmodels.formula.api as smf\n",
    "\n",
    "X = sm.add_constant(x)\n",
    "\n",
    "results = results = sm.OLS(y, X).fit()\n",
    "print(results.summary())"
   ]
  },
  {
   "cell_type": "markdown",
   "metadata": {},
   "source": [
    "- Write down the regression equation\n",
    "\n",
    "The regression equation is: E[ALFAret]= -0.007785460330175878 + 1.5394835507302118*MXXret.\n",
    "\n",
    "- Interpret the beta coefficients and their corresponding t and p values, and their 95% confidence intervals\n",
    "\n",
    "Note that the regression function in Python automatically performs hypothesis testing for both coefficients,  and , where the null hypotheses are that the coefficients are equal to zero."
   ]
  },
  {
   "cell_type": "markdown",
   "metadata": {},
   "source": [
    "DE LA TABLA OBTENIDA PODEMOS OBSERVAR LAS 2 BETAS, DE ESTAS PODEMOS DEDUCIR SUS COEFICIENTES CORRESPONDIENTES, NUESTRO PVALUE COMPRUEBA LA HIPÓTESIS NULA DE QUE EL COEFICIENTE ES IGUAL A 0, ÓSEA QUE NO TIENE EFECTO CUANDO ESTE ES MUY BAJO (<0.05) NOS INDICA QUE PODEMOS RECHAZAR LA HIPÓTESIS NULA. MIENTRAS QUE NUESTRA T NOS REPRESENTA EL NUMERO DE DESVIACIONES ESTÁNDAR QUE SE PUEDEN DAR PARA CADA UNA DE LAS BETAS."
   ]
  },
  {
   "cell_type": "code",
   "execution_count": null,
   "metadata": {},
   "outputs": [],
   "source": []
  }
 ],
 "metadata": {
  "kernelspec": {
   "display_name": "Python 3.8.5 ('base')",
   "language": "python",
   "name": "python3"
  },
  "language_info": {
   "codemirror_mode": {
    "name": "ipython",
    "version": 3
   },
   "file_extension": ".py",
   "mimetype": "text/x-python",
   "name": "python",
   "nbconvert_exporter": "python",
   "pygments_lexer": "ipython3",
   "version": "3.8.5"
  },
  "orig_nbformat": 4,
  "vscode": {
   "interpreter": {
    "hash": "437a4b58f269e6e7b32a6d55bbcbeee7fac7b1a936f84ed54bdc3e1d181a9290"
   }
  }
 },
 "nbformat": 4,
 "nbformat_minor": 2
}
