{
 "cells": [
  {
   "cell_type": "markdown",
   "metadata": {},
   "source": [
    "# __Workshop 2, Advanced AI - Statistics Module__"
   ]
  },
  {
   "cell_type": "markdown",
   "metadata": {},
   "source": [
    "## __Monte Carlo simulation__"
   ]
  },
  {
   "cell_type": "markdown",
   "metadata": {},
   "source": [
    "You have to install the symbulate Python package.\n",
    "\n",
    "This package was created by Dr. Kevin Ross and Dr. Dennis Sun Ross and Sun (2019), professors from Cal Poly University at San Luis Obispo, California (Dr. Sun is also Senior Data Scientist at Google, Inc).\n",
    "\n",
    "We load the symbulate and the matplotlib libraries:"
   ]
  },
  {
   "cell_type": "code",
   "execution_count": 1,
   "metadata": {},
   "outputs": [],
   "source": [
    "from symbulate import *\n",
    "#'exec(%matplotlib inline)' \n",
    "import matplotlib\n",
    "\n",
    "import matplotlib.pyplot as plt"
   ]
  },
  {
   "cell_type": "markdown",
   "metadata": {},
   "source": [
    "### __Simulating numbers with the UNIFORM probability distribution__"
   ]
  },
  {
   "cell_type": "markdown",
   "metadata": {},
   "source": [
    "We define a uniform random variable X and simulate 10,000 uniform random numbers with values from 0 to 40:"
   ]
  },
  {
   "cell_type": "code",
   "execution_count": 2,
   "metadata": {},
   "outputs": [
    {
     "data": {
      "image/png": "[encoded data removed]",
      "text/plain": [
       "<Figure size 432x288 with 1 Axes>"
      ]
     },
     "metadata": {
      "needs_background": "light"
     },
     "output_type": "display_data"
    }
   ],
   "source": [
    "# clear the plot space:\n",
    "plt.clf()\n",
    "# Define the probability type of function as uniform (probability space)\n",
    "P = Uniform(0,40)\n",
    "# Define X as a random variable of the type P (uniform)\n",
    "X = RV(P)\n",
    "# Simulate the values of X and save the in the x array: \n",
    "x = X.sim(10000)\n",
    "x.plot()\n",
    "plt.show()"
   ]
  },
  {
   "cell_type": "markdown",
   "metadata": {},
   "source": [
    "### __CHALLENGE__"
   ]
  },
  {
   "cell_type": "markdown",
   "metadata": {},
   "source": [
    "1. CALCULATE THE MEAN AND STANDARD DEVIATION OF THIS SIMULATED UNIFORM x VARIABLE. HOW CLOSE WERE THESE MEAN AND STANDARD DEVIATION FROM THE THEORETICAL MEAN AND STANDARD DEVIATION?\n",
    "\n",
    "2. INTERPET THE ABOVE HISTOGRAM. WHAT DO YOU SEE? EXPLAIN WITH YOUR WORDS."
   ]
  },
  {
   "cell_type": "markdown",
   "metadata": {},
   "source": [
    "Now generate 10,000 groups of 25 uniform random variables to end up in a matrix of 10,000 rows and 25 columns:"
   ]
  },
  {
   "cell_type": "code",
   "execution_count": 3,
   "metadata": {},
   "outputs": [],
   "source": [
    "# Define the probability space as a vector of 25 uniform random numbers:\n",
    "P = Uniform(0,40) ** 25\n",
    "# Define XVECTOR as a vector of random variables with 25 random values \n",
    "XVECTOR =RV(P)\n",
    "# Simulate 10,000 vectors to get a matrix  \n",
    "xmatrix=XVECTOR.sim(10000)"
   ]
  },
  {
   "cell_type": "markdown",
   "metadata": {},
   "source": [
    "Now xmatrix will have 10,000 rows and 25 columns of uniform random numbers between 0 and 40:"
   ]
  },
  {
   "cell_type": "code",
   "execution_count": 4,
   "metadata": {},
   "outputs": [
    {
     "data": {
      "text/html": [
       "\n",
       "    <table>\n",
       "      <thead>\n",
       "        <th width=\"10%\">Index</th>\n",
       "        <th width=\"90%\">Result</th>\n",
       "      </thead>\n",
       "      <tbody>\n",
       "        \n",
       "        <tr>\n",
       "          <td>0</td><td>(6.840059289616058, 3.32983106996247, 33.569498912911, 37.00617956002159, 0.4474745561869531, ..., 9...</td>\n",
       "        </tr>\n",
       "        \n",
       "        <tr>\n",
       "          <td>1</td><td>(37.009212091100245, 23.098596483147613, 25.495904181526857, 5.457940108768065, 10.827399758377329, ...</td>\n",
       "        </tr>\n",
       "        \n",
       "        <tr>\n",
       "          <td>2</td><td>(13.435214747437257, 8.901040996008241, 22.80041656213057, 33.61154212581903, 1.9043721631464416, .....</td>\n",
       "        </tr>\n",
       "        \n",
       "        <tr>\n",
       "          <td>3</td><td>(2.265304125795975, 33.804253547973644, 4.137640161705054, 38.710511438002314, 11.74934206922301, .....</td>\n",
       "        </tr>\n",
       "        \n",
       "        <tr>\n",
       "          <td>4</td><td>(0.5165755849801679, 8.80183563727314, 5.2469682286954145, 35.74127048327347, 27.391925063075092, .....</td>\n",
       "        </tr>\n",
       "        \n",
       "        <tr>\n",
       "          <td>5</td><td>(13.558121804927307, 0.15294068478188816, 7.925218429251162, 26.787974647026054, 18.800392786587338,...</td>\n",
       "        </tr>\n",
       "        \n",
       "        <tr>\n",
       "          <td>6</td><td>(37.01485310306196, 24.505518738679903, 20.723436045290498, 0.7501979706858508, 30.308784545440155, ...</td>\n",
       "        </tr>\n",
       "        \n",
       "        <tr>\n",
       "          <td>7</td><td>(33.41210965945189, 13.115964803081418, 36.804762265454244, 1.2092836317403144, 18.2518997618601, .....</td>\n",
       "        </tr>\n",
       "        \n",
       "        <tr>\n",
       "          <td>8</td><td>(23.246632615474184, 9.627500112979739, 15.29766096683061, 0.6620444491261779, 6.74658029404664, ......</td>\n",
       "        </tr>\n",
       "        <tr><td>...</td><td>...</td></tr>\n",
       "        <tr>\n",
       "          <td>9999</td><td>(37.16676719656266, 8.206081538059484, 5.331252350922857, 11.010706905709187, 6.678661249003048, ......</td>\n",
       "        </tr>\n",
       "        \n",
       "      </tbody>\n",
       "    </table>\n",
       "        "
      ],
      "text/plain": [
       "Index Result\n",
       "0     (6.840059289616058, 3.32983106996247, 33.569498912911, 37.00617956002159, 0.4474745561869531, ..., 9.57186168613363)\n",
       "1     (37.009212091100245, 23.098596483147613, 25.495904181526857, 5.457940108768065, 10.827399758377329, ..., 10.187098923390998)\n",
       "2     (13.435214747437257, 8.901040996008241, 22.80041656213057, 33.61154212581903, 1.9043721631464416, ..., 30.872859372368467)\n",
       "3     (2.265304125795975, 33.804253547973644, 4.137640161705054, 38.710511438002314, 11.74934206922301, ..., 7.736387924485926)\n",
       "4     (0.5165755849801679, 8.80183563727314, 5.2469682286954145, 35.74127048327347, 27.391925063075092, ..., 10.849556539815017)\n",
       "5     (13.558121804927307, 0.15294068478188816, 7.925218429251162, 26.787974647026054, 18.800392786587338, ..., 9.384565488223364)\n",
       "6     (37.01485310306196, 24.505518738679903, 20.723436045290498, 0.7501979706858508, 30.308784545440155, ..., 35.31762982381562)\n",
       "7     (33.41210965945189, 13.115964803081418, 36.804762265454244, 1.2092836317403144, 18.2518997618601, ..., 17.43446405718446)\n",
       "8     (23.246632615474184, 9.627500112979739, 15.29766096683061, 0.6620444491261779, 6.74658029404664, ..., 32.47897090353294)\n",
       "....  .........................................................................................................................\n",
       "9999  (37.16676719656266, 8.206081538059484, 5.331252350922857, 11.010706905709187, 6.678661249003048, ..., 17.128302043219477)"
      ]
     },
     "execution_count": 4,
     "metadata": {},
     "output_type": "execute_result"
    }
   ],
   "source": [
    "xmatrix"
   ]
  },
  {
   "cell_type": "markdown",
   "metadata": {},
   "source": [
    "Now we get the mean of each row, so we end up with 10,000 sample means:"
   ]
  },
  {
   "cell_type": "code",
   "execution_count": 5,
   "metadata": {},
   "outputs": [
    {
     "data": {
      "text/html": [
       "\n",
       "    <table>\n",
       "      <thead>\n",
       "        <th width=\"10%\">Index</th>\n",
       "        <th width=\"90%\">Result</th>\n",
       "      </thead>\n",
       "      <tbody>\n",
       "        \n",
       "        <tr>\n",
       "          <td>0</td><td>23.246171081383505</td>\n",
       "        </tr>\n",
       "        \n",
       "        <tr>\n",
       "          <td>1</td><td>24.569089777581272</td>\n",
       "        </tr>\n",
       "        \n",
       "        <tr>\n",
       "          <td>2</td><td>21.54093060266224</td>\n",
       "        </tr>\n",
       "        \n",
       "        <tr>\n",
       "          <td>3</td><td>18.940608231660875</td>\n",
       "        </tr>\n",
       "        \n",
       "        <tr>\n",
       "          <td>4</td><td>19.679441844596752</td>\n",
       "        </tr>\n",
       "        \n",
       "        <tr>\n",
       "          <td>5</td><td>17.76019774669241</td>\n",
       "        </tr>\n",
       "        \n",
       "        <tr>\n",
       "          <td>6</td><td>18.999136995960804</td>\n",
       "        </tr>\n",
       "        \n",
       "        <tr>\n",
       "          <td>7</td><td>16.597619338193734</td>\n",
       "        </tr>\n",
       "        \n",
       "        <tr>\n",
       "          <td>8</td><td>17.67266036178904</td>\n",
       "        </tr>\n",
       "        <tr><td>...</td><td>...</td></tr>\n",
       "        <tr>\n",
       "          <td>9999</td><td>22.798734495462654</td>\n",
       "        </tr>\n",
       "        \n",
       "      </tbody>\n",
       "    </table>\n",
       "        "
      ],
      "text/plain": [
       "Index Result\n",
       "0     23.246171081383505\n",
       "1     24.569089777581272\n",
       "2     21.54093060266224\n",
       "3     18.940608231660875\n",
       "4     19.679441844596752\n",
       "5     17.76019774669241\n",
       "6     18.999136995960804\n",
       "7     16.597619338193734\n",
       "8     17.67266036178904\n",
       "....  ..................\n",
       "9999  22.798734495462654"
      ]
     },
     "execution_count": 5,
     "metadata": {},
     "output_type": "execute_result"
    }
   ],
   "source": [
    "# The 2nd parameter is the mathematical operation applied to each row of the random vector\n",
    "# Simulate 10,000 means of each random vector of 25 uniform distributed numbers: \n",
    "xmean = RV(P,mean).sim(10000)\n",
    "xmean"
   ]
  },
  {
   "cell_type": "markdown",
   "metadata": {},
   "source": [
    "Now do a histogram of these sample means that come from a UNIFORM distribution."
   ]
  },
  {
   "cell_type": "code",
   "execution_count": 6,
   "metadata": {},
   "outputs": [
    {
     "data": {
      "image/png": "[encoded data removed]",
      "text/plain": [
       "<Figure size 432x288 with 1 Axes>"
      ]
     },
     "metadata": {
      "needs_background": "light"
     },
     "output_type": "display_data"
    }
   ],
   "source": [
    "plt.clf()\n",
    "xmean.plot()\n",
    "plt.show()"
   ]
  },
  {
   "cell_type": "code",
   "execution_count": 7,
   "metadata": {},
   "outputs": [
    {
     "data": {
      "text/html": [
       "\n",
       "    <table>\n",
       "      <thead>\n",
       "        <th width=\"10%\">Index</th>\n",
       "        <th width=\"90%\">Result</th>\n",
       "      </thead>\n",
       "      <tbody>\n",
       "        \n",
       "        <tr>\n",
       "          <td>0</td><td>13.160380554388857</td>\n",
       "        </tr>\n",
       "        \n",
       "        <tr>\n",
       "          <td>1</td><td>11.531598464452971</td>\n",
       "        </tr>\n",
       "        \n",
       "        <tr>\n",
       "          <td>2</td><td>11.955358445877668</td>\n",
       "        </tr>\n",
       "        \n",
       "        <tr>\n",
       "          <td>3</td><td>11.01507481980302</td>\n",
       "        </tr>\n",
       "        \n",
       "        <tr>\n",
       "          <td>4</td><td>9.629777335195243</td>\n",
       "        </tr>\n",
       "        \n",
       "        <tr>\n",
       "          <td>5</td><td>11.052065903694412</td>\n",
       "        </tr>\n",
       "        \n",
       "        <tr>\n",
       "          <td>6</td><td>12.695954093556399</td>\n",
       "        </tr>\n",
       "        \n",
       "        <tr>\n",
       "          <td>7</td><td>10.786325453316124</td>\n",
       "        </tr>\n",
       "        \n",
       "        <tr>\n",
       "          <td>8</td><td>10.035357497905165</td>\n",
       "        </tr>\n",
       "        <tr><td>...</td><td>...</td></tr>\n",
       "        <tr>\n",
       "          <td>9999</td><td>11.104629634385608</td>\n",
       "        </tr>\n",
       "        \n",
       "      </tbody>\n",
       "    </table>\n",
       "        "
      ],
      "text/plain": [
       "Index Result\n",
       "0     13.160380554388857\n",
       "1     11.531598464452971\n",
       "2     11.955358445877668\n",
       "3     11.01507481980302\n",
       "4     9.629777335195243\n",
       "5     11.052065903694412\n",
       "6     12.695954093556399\n",
       "7     10.786325453316124\n",
       "8     10.035357497905165\n",
       "....  ..................\n",
       "9999  11.104629634385608"
      ]
     },
     "execution_count": 7,
     "metadata": {},
     "output_type": "execute_result"
    }
   ],
   "source": [
    "xsd = RV(P,sd).sim(10000)\n",
    "xsd"
   ]
  },
  {
   "cell_type": "code",
   "execution_count": 8,
   "metadata": {},
   "outputs": [
    {
     "data": {
      "image/png": "[encoded data removed]",
      "text/plain": [
       "<Figure size 432x288 with 1 Axes>"
      ]
     },
     "metadata": {
      "needs_background": "light"
     },
     "output_type": "display_data"
    }
   ],
   "source": [
    "plt.clf()\n",
    "xsd.plot()\n",
    "plt.show()"
   ]
  },
  {
   "cell_type": "markdown",
   "metadata": {},
   "source": [
    "1. EL PROMEDIO Y DE LA DESVIACIÓN ESTÁNDAR DE LA SIMULACIÓN EN COMPARACIÓN CON LOS TEÓRICOS, OBSEVAMOS VALORES MUY PARECIDOS VARIANDO POR UNIDADES MUY PEQUEÑAS."
   ]
  },
  {
   "cell_type": "code",
   "execution_count": 9,
   "metadata": {},
   "outputs": [
    {
     "name": "stdout",
     "output_type": "stream",
     "text": [
      "20.29316274152794 11.576868892390577\n"
     ]
    }
   ],
   "source": [
    "sim_xmean = x.mean()\n",
    "sim_xstd = x.sd()\n",
    "print(sim_xmean, sim_xstd)"
   ]
  },
  {
   "cell_type": "markdown",
   "metadata": {},
   "source": [
    "2. EN EL PRIMER HISTOGRAMA PODEMOS OBSERVAR QUE LOS DATOS DE 0 A 40 TIENEN UNA DENSIDAD DISTRIBUIDA UNIFORMEMENTE, FORMANDO UN RECTÁNGULO."
   ]
  },
  {
   "cell_type": "markdown",
   "metadata": {},
   "source": [
    "### __CHALLENGE__"
   ]
  },
  {
   "cell_type": "markdown",
   "metadata": {},
   "source": [
    "1. CALCULATE THE MEAN AND STANDARD DEVIATION OF THE xmean VARIABLE. HOW SIMILAR OR DIFFERENT ARE THESE VALUES FROM THE MEAN AND STANDARD DEVIATION OF x?\n",
    "\n",
    "2. WHAT DO YOU SEE IN THE ABOVE HISTOGRAM? DOES THE HISTOGRAM OF SAMPLE MEANS OF UNIFORM RANDOM VARIABLE LOOK LIKE A UNIFORM DISTRIBUTED VARIABLE? DO YOU SEE A LOGIC? BRIEFLY EXPLAIN WHAT YOU THINK.\n",
    "\n",
    "Now plot both variables in the same plot; the original x uniform variable and the xsample variable (the sample means of x)."
   ]
  },
  {
   "cell_type": "code",
   "execution_count": 15,
   "metadata": {},
   "outputs": [
    {
     "data": {
      "image/png": "[encoded data removed]",
      "text/plain": [
       "<Figure size 432x288 with 1 Axes>"
      ]
     },
     "metadata": {
      "needs_background": "light"
     },
     "output_type": "display_data"
    }
   ],
   "source": [
    "plt.clf()\n",
    "xmean.plot()\n",
    "x.plot()\n",
    "plt.show()"
   ]
  },
  {
   "cell_type": "markdown",
   "metadata": {},
   "source": [
    "1. LOS VALORES ENTRE LOS PROMEDIOS DE X CON XMEAN SON MUY SIMILARES VARIANDO POR MUY POCO RANGO, SIN EMBARGO LA DESVIACIÓN ESTÁNDAR TIENE UN GRAN CAMBIO SIENDO LA DE X LA QUE POSEE UN MAYOR VALOR, MIENTRAS LA DE XMEAN, TENIENDO UN VALOR MUY PEQUEÑO."
   ]
  },
  {
   "cell_type": "code",
   "execution_count": 13,
   "metadata": {},
   "outputs": [
    {
     "name": "stdout",
     "output_type": "stream",
     "text": [
      "19.977401857298588 2.311805089405263\n"
     ]
    }
   ],
   "source": [
    "xmean_mean = xmean.mean()\n",
    "xmean_std = xmean.sd()\n",
    "print(xmean_mean, xmean_std)"
   ]
  },
  {
   "cell_type": "markdown",
   "metadata": {},
   "source": [
    "2. EN EL HISTOGRAMA DE ARRIBA PODEMOS OBSERVAR QUE SE REPRESENTA LA X JUNTO CON EL PROMEDIO DE ESTA. LA XMEAN SE PRESENTA COMO UNA CAMPANA DE GAUSS. CONSIDERO LO QUE VEMOS EN LA GRAFICA TIENE SENTIDO, YA QUE PRIMERO SE PRESENTAN TODOS LOS VALORES DE X Y PARA LA XMENA SE VAN OBTENIENDO LOS PROMEDIOS DE NUMEROS RANDOM QUE VA A LLEGAR A UNA MEDIA GLOBAL."
   ]
  },
  {
   "cell_type": "markdown",
   "metadata": {},
   "source": [
    "3. WHAT DO YOU SEE? HOW THE HISTOGRAM OF X DIFFERS FROM THE HISTOGRAM OF THE SAMPLES OF X?\n",
    "\n",
    "LAS DIFERENCIAS ENTRE AMBOS HISTOGRAMAS ES QUE UNO REPRESENTA UN SET DE DATOS ALEATORIOS DE 0 AL 40 Y LA DENSIDAD QUE TIENE ESO NUMEROS EN EL SET, MIENTRAS QUE LA MEDIA REPRESENTA EL PROMEDIO DE LOS DATOS RANDOM."
   ]
  },
  {
   "cell_type": "markdown",
   "metadata": {},
   "source": [
    "### __Simulating numbers with the NORMAL probability distribution__"
   ]
  },
  {
   "cell_type": "markdown",
   "metadata": {},
   "source": [
    "Let’s simulate a normal distributed variable Y with mean = 20 and standard devation = 10."
   ]
  },
  {
   "cell_type": "code",
   "execution_count": 10,
   "metadata": {},
   "outputs": [
    {
     "data": {
      "image/png": "[encoded data removed]",
      "text/plain": [
       "<Figure size 432x288 with 1 Axes>"
      ]
     },
     "metadata": {
      "needs_background": "light"
     },
     "output_type": "display_data"
    }
   ],
   "source": [
    "# clear the plot space:\n",
    "plt.clf()\n",
    "# Define the probability type of function as uniform (probability space)\n",
    "P = Normal(mean=20, sd=10)\n",
    "# Define Y as a random variable of the type P (normal)\n",
    "Y =RV(P)\n",
    "# Simulate 10,000 values of Y and save the in the x array: \n",
    "y=Y.sim(10000)\n",
    "y.plot()\n",
    "plt.show()"
   ]
  },
  {
   "cell_type": "markdown",
   "metadata": {},
   "source": [
    "### __CHALLENGE__"
   ]
  },
  {
   "cell_type": "markdown",
   "metadata": {},
   "source": [
    "1. CALCULATE THE MEAN AND STANDARD DEVIATION OF THIS RANDOM y VARIABLE. HOW SIMILAR OR DIFFERENT ARE THESE VALUES FROM THE MEAN AND STANDARD DEVIATION OF THE THEORETICAL MEAN (20) AND THE THEORETICAL STANDARD DEVIATION (10)?\n",
    "\n",
    "2. WHAT DO YOU SEE? INTERPRET THE HISTOGRAM WITH YOUR WORDS.\n",
    "\n",
    "Now generate 10,000 groups of 25 NORMAL random variables with mean=20 and SD=10. You will end up with a matrix of 10,000 rows and 25 columns:"
   ]
  },
  {
   "cell_type": "code",
   "execution_count": 11,
   "metadata": {},
   "outputs": [],
   "source": [
    "# Define the probability space P as a vector of 25 normal random numbers:\n",
    "P = Normal(mean=20, sd=10) ** 25\n",
    "# Define RANDOMVECTOR as a vector of 25 random variables in the Probability space P \n",
    "RANDOMVECTOR = RV(P)\n",
    "# Simulate 10,000 random vectors with this distribution and save the in ymatrix: \n",
    "ymatrix=RANDOMVECTOR.sim(10000)"
   ]
  },
  {
   "cell_type": "markdown",
   "metadata": {},
   "source": [
    "Now ymatrix will have 10,000 rows and 25 columns of NORMAL random numbers with mean=20 and SD=10:"
   ]
  },
  {
   "cell_type": "code",
   "execution_count": 12,
   "metadata": {},
   "outputs": [
    {
     "data": {
      "text/html": [
       "\n",
       "    <table>\n",
       "      <thead>\n",
       "        <th width=\"10%\">Index</th>\n",
       "        <th width=\"90%\">Result</th>\n",
       "      </thead>\n",
       "      <tbody>\n",
       "        \n",
       "        <tr>\n",
       "          <td>0</td><td>(30.78793001194174, 19.67212680198967, 22.232212289622858, 9.144978098456729, 28.951803426095886, .....</td>\n",
       "        </tr>\n",
       "        \n",
       "        <tr>\n",
       "          <td>1</td><td>(17.94700432786998, 11.502687809859536, 37.66743769639531, 28.94409047767266, 25.633702274130123, .....</td>\n",
       "        </tr>\n",
       "        \n",
       "        <tr>\n",
       "          <td>2</td><td>(26.65768933672051, 20.97352878482149, 14.870987823031498, 41.67412220549225, 22.37580976702734, ......</td>\n",
       "        </tr>\n",
       "        \n",
       "        <tr>\n",
       "          <td>3</td><td>(34.8875767857582, 34.815155664841924, 25.904375044462668, 13.346930993535027, 36.6549887517392, ......</td>\n",
       "        </tr>\n",
       "        \n",
       "        <tr>\n",
       "          <td>4</td><td>(23.783804192968347, -1.8579867840232502, 3.1588958615531766, 9.667144651368814, 39.68388005007815, ...</td>\n",
       "        </tr>\n",
       "        \n",
       "        <tr>\n",
       "          <td>5</td><td>(29.297398660987223, 5.243904778746364, 18.895342762669024, 38.60794638161634, 20.182823921821587, ....</td>\n",
       "        </tr>\n",
       "        \n",
       "        <tr>\n",
       "          <td>6</td><td>(24.140331330767197, 26.010476419987857, 13.263320256837272, 9.845824651450092, 27.543481008280303, ...</td>\n",
       "        </tr>\n",
       "        \n",
       "        <tr>\n",
       "          <td>7</td><td>(32.361896593814734, 24.614601325546992, 31.313210119016087, 15.8687587242377, 6.587146628226554, .....</td>\n",
       "        </tr>\n",
       "        \n",
       "        <tr>\n",
       "          <td>8</td><td>(25.857191802976086, 16.72778117348465, 15.75399372337366, 29.29064639443397, 10.758008557067816, .....</td>\n",
       "        </tr>\n",
       "        <tr><td>...</td><td>...</td></tr>\n",
       "        <tr>\n",
       "          <td>9999</td><td>(5.419909660392605, 18.607313455017152, 19.16467200045628, 23.027627695681478, 9.90057160757412, ......</td>\n",
       "        </tr>\n",
       "        \n",
       "      </tbody>\n",
       "    </table>\n",
       "        "
      ],
      "text/plain": [
       "Index Result\n",
       "0     (30.78793001194174, 19.67212680198967, 22.232212289622858, 9.144978098456729, 28.951803426095886, ..., 8.554211171630751)\n",
       "1     (17.94700432786998, 11.502687809859536, 37.66743769639531, 28.94409047767266, 25.633702274130123, ..., 16.566842323077275)\n",
       "2     (26.65768933672051, 20.97352878482149, 14.870987823031498, 41.67412220549225, 22.37580976702734, ..., 25.26322275203061)\n",
       "3     (34.8875767857582, 34.815155664841924, 25.904375044462668, 13.346930993535027, 36.6549887517392, ..., 5.537241527761083)\n",
       "4     (23.783804192968347, -1.8579867840232502, 3.1588958615531766, 9.667144651368814, 39.68388005007815, ..., 30.983262655094318)\n",
       "5     (29.297398660987223, 5.243904778746364, 18.895342762669024, 38.60794638161634, 20.182823921821587, ..., 14.552175831467604)\n",
       "6     (24.140331330767197, 26.010476419987857, 13.263320256837272, 9.845824651450092, 27.543481008280303, ..., 17.06130729582577)\n",
       "7     (32.361896593814734, 24.614601325546992, 31.313210119016087, 15.8687587242377, 6.587146628226554, ..., 18.905935015452158)\n",
       "8     (25.857191802976086, 16.72778117348465, 15.75399372337366, 29.29064639443397, 10.758008557067816, ..., 23.424064908812028)\n",
       "....  .......................................................................................................................\n",
       "9999  (5.419909660392605, 18.607313455017152, 19.16467200045628, 23.027627695681478, 9.90057160757412, ..., 33.0457966816772)"
      ]
     },
     "execution_count": 12,
     "metadata": {},
     "output_type": "execute_result"
    }
   ],
   "source": [
    "ymatrix"
   ]
  },
  {
   "cell_type": "markdown",
   "metadata": {},
   "source": [
    "Now we get the mean of each vector (row) to get 10,000 sample means:"
   ]
  },
  {
   "cell_type": "code",
   "execution_count": 13,
   "metadata": {},
   "outputs": [
    {
     "data": {
      "text/html": [
       "\n",
       "    <table>\n",
       "      <thead>\n",
       "        <th width=\"10%\">Index</th>\n",
       "        <th width=\"90%\">Result</th>\n",
       "      </thead>\n",
       "      <tbody>\n",
       "        \n",
       "        <tr>\n",
       "          <td>0</td><td>22.07372089496661</td>\n",
       "        </tr>\n",
       "        \n",
       "        <tr>\n",
       "          <td>1</td><td>18.589730804402507</td>\n",
       "        </tr>\n",
       "        \n",
       "        <tr>\n",
       "          <td>2</td><td>19.180395573140867</td>\n",
       "        </tr>\n",
       "        \n",
       "        <tr>\n",
       "          <td>3</td><td>20.625284880319736</td>\n",
       "        </tr>\n",
       "        \n",
       "        <tr>\n",
       "          <td>4</td><td>22.22001091746806</td>\n",
       "        </tr>\n",
       "        \n",
       "        <tr>\n",
       "          <td>5</td><td>24.46066862716761</td>\n",
       "        </tr>\n",
       "        \n",
       "        <tr>\n",
       "          <td>6</td><td>18.13845322798714</td>\n",
       "        </tr>\n",
       "        \n",
       "        <tr>\n",
       "          <td>7</td><td>16.37640057899251</td>\n",
       "        </tr>\n",
       "        \n",
       "        <tr>\n",
       "          <td>8</td><td>23.534569875336455</td>\n",
       "        </tr>\n",
       "        <tr><td>...</td><td>...</td></tr>\n",
       "        <tr>\n",
       "          <td>9999</td><td>19.336211041271685</td>\n",
       "        </tr>\n",
       "        \n",
       "      </tbody>\n",
       "    </table>\n",
       "        "
      ],
      "text/plain": [
       "Index Result\n",
       "0     22.07372089496661\n",
       "1     18.589730804402507\n",
       "2     19.180395573140867\n",
       "3     20.625284880319736\n",
       "4     22.22001091746806\n",
       "5     24.46066862716761\n",
       "6     18.13845322798714\n",
       "7     16.37640057899251\n",
       "8     23.534569875336455\n",
       "....  ..................\n",
       "9999  19.336211041271685"
      ]
     },
     "execution_count": 13,
     "metadata": {},
     "output_type": "execute_result"
    }
   ],
   "source": [
    "# The 2nd parameter is the mathematical operation applied to each row of the random vector\n",
    "# Simulate 10,000 means of each random vector of 25 uniform distributed numbers: \n",
    "ymean = RV(P,mean).sim(10000)\n",
    "ymean"
   ]
  },
  {
   "cell_type": "markdown",
   "metadata": {},
   "source": [
    "Now do a histogram of these sample means of Y."
   ]
  },
  {
   "cell_type": "code",
   "execution_count": 14,
   "metadata": {},
   "outputs": [
    {
     "data": {
      "image/png": "[encoded data removed]",
      "text/plain": [
       "<Figure size 432x288 with 1 Axes>"
      ]
     },
     "metadata": {
      "needs_background": "light"
     },
     "output_type": "display_data"
    }
   ],
   "source": [
    "plt.clf()\n",
    "ymean.plot()\n",
    "plt.show()"
   ]
  },
  {
   "cell_type": "markdown",
   "metadata": {},
   "source": [
    "1. LOS VALORES OBTENIDOS DEL PROMEDIO Y LA DESVIACIÓN ESTÁNDAR SON MUY SIMILARES A LOS VALORES TEÓRICOS, TENIENDO UNA DIFERENCIA MUY PEQUEÑA."
   ]
  },
  {
   "cell_type": "code",
   "execution_count": 16,
   "metadata": {},
   "outputs": [
    {
     "name": "stdout",
     "output_type": "stream",
     "text": [
      "20.058059954471748 10.113283705506563\n"
     ]
    }
   ],
   "source": [
    "y_mean = y.mean()\n",
    "y_std = y.sd()\n",
    "print(y_mean, y_std)"
   ]
  },
  {
   "cell_type": "markdown",
   "metadata": {},
   "source": [
    "2. EN EL HISTOGRAMA DE ARRIBA PODEMOS OBSERVAR EL PROMEDIO DE NUESTRA VARIABLE Y."
   ]
  },
  {
   "cell_type": "markdown",
   "metadata": {},
   "source": [
    "### __CHALLENGE__"
   ]
  },
  {
   "cell_type": "markdown",
   "metadata": {},
   "source": [
    "1. CALCULATE THE MEAN AND STANDARD DEVIATION OF THE ymean VARIABLE. HOW SIMILAR OR DIFFERENT ARE THESE VALUES FROM THE MEAN AND STANDARD DEVIATION OF y?\n",
    "\n",
    "2. INTERPRET THE ABOVE HISTOGRAM OF THE SAMPLES OF y.\n",
    "\n",
    "Now plot both histograms, the histogram of y and the histogram of ymean:"
   ]
  },
  {
   "cell_type": "code",
   "execution_count": 17,
   "metadata": {},
   "outputs": [
    {
     "data": {
      "image/png": "[encoded data removed]",
      "text/plain": [
       "<Figure size 432x288 with 1 Axes>"
      ]
     },
     "metadata": {
      "needs_background": "light"
     },
     "output_type": "display_data"
    }
   ],
   "source": [
    "plt.clf()\n",
    "ymean.plot()\n",
    "y.plot()\n",
    "plt.show()"
   ]
  },
  {
   "cell_type": "markdown",
   "metadata": {},
   "source": [
    "3. WHAT DO YOU SEE? COMPARE BOTH HISTOGRAMS. BRIEFLY EXPLAIN WHAT YOU THINK THAT HAPPEND."
   ]
  },
  {
   "cell_type": "markdown",
   "metadata": {},
   "source": [
    "1. LOS VALORES ENTRE LOS PROMEDIOS DE Y CON YMEAN SON MUY SIMILARES VARIANDO POR MUY POCO RANGO, SIN EMBARGO LA DESVIACIÓN ESTÁNDAR TIENE UN GRAN CAMBIO SIENDO LA DE Y LA QUE POSEE UN MAYOR VALOR, MIENTRAS LA DE YMEAN, TENIENDO UN VALOR MUY PEQUEÑO."
   ]
  },
  {
   "cell_type": "code",
   "execution_count": 18,
   "metadata": {},
   "outputs": [
    {
     "name": "stdout",
     "output_type": "stream",
     "text": [
      "20.01204521491964 1.9903931769170342\n"
     ]
    }
   ],
   "source": [
    "mean_ymean = ymean.mean()\n",
    "mean_ystd = ymean.sd()\n",
    "print(mean_ymean, mean_ystd)"
   ]
  },
  {
   "cell_type": "markdown",
   "metadata": {},
   "source": [
    "2. EN EL HISTOGRAMA DE ARRIBA PODEMOS VER COMO SE PLASMAN LOS DATOS DE Y JUNTO LOS DATOS DE YMEAN."
   ]
  },
  {
   "cell_type": "markdown",
   "metadata": {},
   "source": [
    "3. LA PRINCIPAL COMPARACIÓN ENTRE AMBOS HISTOGRAMAS ES LOS DATOS DE Y SON VALORES PARA QUE EL PROMEDIO SEA DE ALREDEDOR DE 20, MIENTRAS QUE EN EL DE YMEAN OBSERVAMOS COMO LOS PROMEDIOS DE LOS VALORES TIENDEN A TENER UN VALOR DE 20. "
   ]
  },
  {
   "cell_type": "markdown",
   "metadata": {},
   "source": [
    "## __CHALLENGE: HYPOTHESIS TESTING__"
   ]
  },
  {
   "cell_type": "markdown",
   "metadata": {},
   "source": [
    "Collect real data for Microsoft (MSFT) stock and do a hypothesis testing to see whether the mean of monthly cc returns of Microsoft is greater than zero.\n",
    "\n",
    "You have to do the following:\n",
    "\n",
    "Run a t-test to compare whether the mean return of MSFT is greater than zero.\n",
    "\n",
    "To do a hypothesis test, we usually do the following steps:\n",
    "\n",
    "1. DEFINE THE VARIABLE OF STUDY. In this case it will be the mean of MSFT cc returns"
   ]
  },
  {
   "cell_type": "code",
   "execution_count": 1,
   "metadata": {},
   "outputs": [
    {
     "data": {
      "text/html": [
       "<div>\n",
       "<style scoped>\n",
       "    .dataframe tbody tr th:only-of-type {\n",
       "        vertical-align: middle;\n",
       "    }\n",
       "\n",
       "    .dataframe tbody tr th {\n",
       "        vertical-align: top;\n",
       "    }\n",
       "\n",
       "    .dataframe thead th {\n",
       "        text-align: right;\n",
       "    }\n",
       "</style>\n",
       "<table border=\"1\" class=\"dataframe\">\n",
       "  <thead>\n",
       "    <tr style=\"text-align: right;\">\n",
       "      <th></th>\n",
       "      <th>High</th>\n",
       "      <th>Low</th>\n",
       "      <th>Open</th>\n",
       "      <th>Close</th>\n",
       "      <th>Volume</th>\n",
       "      <th>Adj Close</th>\n",
       "    </tr>\n",
       "    <tr>\n",
       "      <th>Date</th>\n",
       "      <th></th>\n",
       "      <th></th>\n",
       "      <th></th>\n",
       "      <th></th>\n",
       "      <th></th>\n",
       "      <th></th>\n",
       "    </tr>\n",
       "  </thead>\n",
       "  <tbody>\n",
       "    <tr>\n",
       "      <th>2017-01-01</th>\n",
       "      <td>65.910004</td>\n",
       "      <td>61.950001</td>\n",
       "      <td>62.790001</td>\n",
       "      <td>64.650002</td>\n",
       "      <td>493453500.0</td>\n",
       "      <td>59.846748</td>\n",
       "    </tr>\n",
       "    <tr>\n",
       "      <th>2017-02-01</th>\n",
       "      <td>65.239998</td>\n",
       "      <td>62.750000</td>\n",
       "      <td>64.360001</td>\n",
       "      <td>63.980000</td>\n",
       "      <td>440744000.0</td>\n",
       "      <td>59.226517</td>\n",
       "    </tr>\n",
       "    <tr>\n",
       "      <th>2017-03-01</th>\n",
       "      <td>66.190002</td>\n",
       "      <td>63.619999</td>\n",
       "      <td>64.129997</td>\n",
       "      <td>65.860001</td>\n",
       "      <td>489169700.0</td>\n",
       "      <td>61.336441</td>\n",
       "    </tr>\n",
       "    <tr>\n",
       "      <th>2017-04-01</th>\n",
       "      <td>69.139999</td>\n",
       "      <td>64.849998</td>\n",
       "      <td>65.809998</td>\n",
       "      <td>68.459999</td>\n",
       "      <td>433191200.0</td>\n",
       "      <td>63.757874</td>\n",
       "    </tr>\n",
       "    <tr>\n",
       "      <th>2017-05-01</th>\n",
       "      <td>70.739998</td>\n",
       "      <td>67.139999</td>\n",
       "      <td>68.680000</td>\n",
       "      <td>69.839996</td>\n",
       "      <td>517218500.0</td>\n",
       "      <td>65.043091</td>\n",
       "    </tr>\n",
       "  </tbody>\n",
       "</table>\n",
       "</div>"
      ],
      "text/plain": [
       "                 High        Low       Open      Close       Volume  Adj Close\n",
       "Date                                                                          \n",
       "2017-01-01  65.910004  61.950001  62.790001  64.650002  493453500.0  59.846748\n",
       "2017-02-01  65.239998  62.750000  64.360001  63.980000  440744000.0  59.226517\n",
       "2017-03-01  66.190002  63.619999  64.129997  65.860001  489169700.0  61.336441\n",
       "2017-04-01  69.139999  64.849998  65.809998  68.459999  433191200.0  63.757874\n",
       "2017-05-01  70.739998  67.139999  68.680000  69.839996  517218500.0  65.043091"
      ]
     },
     "execution_count": 1,
     "metadata": {},
     "output_type": "execute_result"
    }
   ],
   "source": [
    "import numpy as np\n",
    "import pandas as pd\n",
    "import pandas_datareader as pdr\n",
    "import matplotlib\n",
    "\n",
    "import matplotlib.pyplot as plt\n",
    "\n",
    "MSFT = pdr.get_data_yahoo('MSFT', start=\"01/01/2017\", interval=\"m\")\n",
    "MSFT.head()"
   ]
  },
  {
   "cell_type": "markdown",
   "metadata": {},
   "source": [
    "2. WRITE THE NULL AND THE ALTERNATIVE HYPOTHESIS."
   ]
  },
  {
   "cell_type": "code",
   "execution_count": 15,
   "metadata": {},
   "outputs": [
    {
     "data": {
      "image/png": "[encoded data removed]",
      "text/plain": [
       "<Figure size 432x288 with 1 Axes>"
      ]
     },
     "metadata": {
      "needs_background": "light"
     },
     "output_type": "display_data"
    }
   ],
   "source": [
    "#H0: The Null Hypothesis\n",
    "MSFT['r'] = np.log(MSFT['Adj Close']) - np.log(MSFT['Adj Close'].shift(1))\n",
    "plt.hist(MSFT['r'], bins=20)\n",
    "plt.show()\n"
   ]
  },
  {
   "cell_type": "code",
   "execution_count": 17,
   "metadata": {},
   "outputs": [
    {
     "name": "stdout",
     "output_type": "stream",
     "text": [
      "0.023272785954541148 0.05417687250202409\n"
     ]
    }
   ],
   "source": [
    "mean = MSFT['r'].mean()\n",
    "std = MSFT['r'].std()\n",
    "\n",
    "print(mean, std)"
   ]
  },
  {
   "cell_type": "markdown",
   "metadata": {},
   "source": [
    "3. CALCULATE THE STANDARD ERROR, WHICH IS THE STANDARD DEVIATION OF THE VARIABLE OF STUDY."
   ]
  },
  {
   "cell_type": "code",
   "execution_count": 21,
   "metadata": {},
   "outputs": [
    {
     "data": {
      "text/plain": [
       "0.006569910817396067"
      ]
     },
     "execution_count": 21,
     "metadata": {},
     "output_type": "execute_result"
    }
   ],
   "source": [
    "std_grouped = std / np.sqrt(MSFT['r'].count())\n",
    "std_grouped"
   ]
  },
  {
   "cell_type": "markdown",
   "metadata": {},
   "source": [
    "4. CALCULATE THE t-statistic (t-value). EXPLAIN/INTERPRET THE t-statistic."
   ]
  },
  {
   "cell_type": "code",
   "execution_count": 26,
   "metadata": {},
   "outputs": [
    {
     "data": {
      "text/plain": [
       "3.5423290515479384"
      ]
     },
     "execution_count": 26,
     "metadata": {},
     "output_type": "execute_result"
    }
   ],
   "source": [
    "# t-statistic\n",
    "t_statistic = (mean - 0) / std_grouped\n",
    "t_statistic"
   ]
  },
  {
   "cell_type": "markdown",
   "metadata": {},
   "source": [
    "5. CALCULATE THE 95% CONFIDENCE INTERVAL OF THE SAMPLE MEAN"
   ]
  },
  {
   "cell_type": "code",
   "execution_count": 28,
   "metadata": {},
   "outputs": [
    {
     "name": "stdout",
     "output_type": "stream",
     "text": [
      "0.010132964319749015 0.03641260758933328\n"
     ]
    }
   ],
   "source": [
    "# min and max of the CI\n",
    "min_t = mean - 2 * std_grouped\n",
    "max_t = mean + 2 * std_grouped\n",
    "print(min_t, max_t)"
   ]
  },
  {
   "cell_type": "markdown",
   "metadata": {},
   "source": [
    "6. WRITE YOUR CONCLUSION OF THE t-TEST\n",
    "\n",
    "CON LOS RESULTADOS OBTENIDOS CONCLUYO QUE MI HIPOTÉSIS TIENE UN PORCENTAJE DE ERROR MUY BAJO, CON RESPECTO A LA ALTERNATIVA DEL \"DIABLITO\", TENIENDO UN INTERVALO DE COFIANZA MUY ALTO."
   ]
  }
 ],
 "metadata": {
  "kernelspec": {
   "display_name": "Python 3.9.12 ('DL')",
   "language": "python",
   "name": "python3"
  },
  "language_info": {
   "codemirror_mode": {
    "name": "ipython",
    "version": 3
   },
   "file_extension": ".py",
   "mimetype": "text/x-python",
   "name": "python",
   "nbconvert_exporter": "python",
   "pygments_lexer": "ipython3",
   "version": "3.9.12"
  },
  "orig_nbformat": 4,
  "vscode": {
   "interpreter": {
    "hash": "e0097eb9e75fd1fba237717d3fa82328c135583c8e3c8e971996dd6e8be60a1e"
   }
  }
 },
 "nbformat": 4,
 "nbformat_minor": 2
}
